{
 "cells": [
  {
   "cell_type": "code",
   "execution_count": 53,
   "metadata": {},
   "outputs": [],
   "source": [
    "import pandas as pd\n",
    "import seaborn as sns\n",
    "import matplotlib.pyplot as plt\n",
    "#한글폰트 설정\n",
    "plt.rc(\"font\", family=\"Malgun Gothic\")\n",
    "# -값 깨지는 것 보정\n",
    "plt.rc(\"axes\", unicode_minus=False)"
   ]
  },
  {
   "cell_type": "code",
   "execution_count": 54,
   "metadata": {},
   "outputs": [],
   "source": [
    "df1 = pd.read_csv(\"2_지역단위직업군.csv\")"
   ]
  },
  {
   "cell_type": "code",
   "execution_count": 73,
   "metadata": {},
   "outputs": [],
   "source": [
    "df2 = pd.read_csv(\"6_지역단위신용점수.csv\")"
   ]
  },
  {
   "cell_type": "code",
   "execution_count": 56,
   "metadata": {},
   "outputs": [],
   "source": [
    "df3 = pd.read_csv(\"7_지역단위자동차보유.csv\")"
   ]
  },
  {
   "cell_type": "code",
   "execution_count": 57,
   "metadata": {},
   "outputs": [
    {
     "data": {
      "text/html": [
       "<div>\n",
       "<style scoped>\n",
       "    .dataframe tbody tr th:only-of-type {\n",
       "        vertical-align: middle;\n",
       "    }\n",
       "\n",
       "    .dataframe tbody tr th {\n",
       "        vertical-align: top;\n",
       "    }\n",
       "\n",
       "    .dataframe thead th {\n",
       "        text-align: right;\n",
       "    }\n",
       "</style>\n",
       "<table border=\"1\" class=\"dataframe\">\n",
       "  <thead>\n",
       "    <tr style=\"text-align: right;\">\n",
       "      <th></th>\n",
       "      <th>BS_YR_MON</th>\n",
       "      <th>GB</th>\n",
       "      <th>CT_PRVNC_CD</th>\n",
       "      <th>CT_PRVNC_NM</th>\n",
       "      <th>CT_CNTY_GU_CD</th>\n",
       "      <th>CT_CNTY_GU_NM</th>\n",
       "      <th>ADM_DONG_CD</th>\n",
       "      <th>ADM_DONG_NM</th>\n",
       "      <th>GENDER</th>\n",
       "      <th>AGE_CD</th>\n",
       "      <th>RT_MDL_GB_410</th>\n",
       "      <th>RT_MDL_GB_420</th>\n",
       "      <th>RT_MDL_GB_430</th>\n",
       "      <th>RT_MDL_GB_440</th>\n",
       "      <th>RT_MDL_GB_510</th>\n",
       "      <th>RT_MDL_GB_520</th>\n",
       "      <th>RT_MDL_GB_910</th>\n",
       "    </tr>\n",
       "  </thead>\n",
       "  <tbody>\n",
       "    <tr>\n",
       "      <th>0</th>\n",
       "      <td>202001</td>\n",
       "      <td>ADM_DONG</td>\n",
       "      <td>27</td>\n",
       "      <td>대구광역시</td>\n",
       "      <td>27170</td>\n",
       "      <td>서구</td>\n",
       "      <td>27170565</td>\n",
       "      <td>비산2.3동</td>\n",
       "      <td>2</td>\n",
       "      <td>50</td>\n",
       "      <td>0.00</td>\n",
       "      <td>0.39</td>\n",
       "      <td>0.0</td>\n",
       "      <td>0.00</td>\n",
       "      <td>0.16</td>\n",
       "      <td>0.0</td>\n",
       "      <td>0.45</td>\n",
       "    </tr>\n",
       "    <tr>\n",
       "      <th>1</th>\n",
       "      <td>202001</td>\n",
       "      <td>ADM_DONG</td>\n",
       "      <td>27</td>\n",
       "      <td>대구광역시</td>\n",
       "      <td>27170</td>\n",
       "      <td>서구</td>\n",
       "      <td>27170565</td>\n",
       "      <td>비산2.3동</td>\n",
       "      <td>2</td>\n",
       "      <td>60</td>\n",
       "      <td>0.00</td>\n",
       "      <td>0.27</td>\n",
       "      <td>0.0</td>\n",
       "      <td>0.00</td>\n",
       "      <td>0.11</td>\n",
       "      <td>0.0</td>\n",
       "      <td>0.61</td>\n",
       "    </tr>\n",
       "    <tr>\n",
       "      <th>2</th>\n",
       "      <td>202001</td>\n",
       "      <td>ADM_DONG</td>\n",
       "      <td>43</td>\n",
       "      <td>충청북도</td>\n",
       "      <td>43760</td>\n",
       "      <td>괴산군</td>\n",
       "      <td>43760390</td>\n",
       "      <td>사리면</td>\n",
       "      <td>2</td>\n",
       "      <td>50</td>\n",
       "      <td>0.01</td>\n",
       "      <td>0.33</td>\n",
       "      <td>0.0</td>\n",
       "      <td>0.00</td>\n",
       "      <td>0.23</td>\n",
       "      <td>0.0</td>\n",
       "      <td>0.43</td>\n",
       "    </tr>\n",
       "    <tr>\n",
       "      <th>3</th>\n",
       "      <td>202001</td>\n",
       "      <td>ADM_DONG</td>\n",
       "      <td>43</td>\n",
       "      <td>충청북도</td>\n",
       "      <td>43760</td>\n",
       "      <td>괴산군</td>\n",
       "      <td>43760390</td>\n",
       "      <td>사리면</td>\n",
       "      <td>2</td>\n",
       "      <td>70</td>\n",
       "      <td>0.00</td>\n",
       "      <td>0.04</td>\n",
       "      <td>0.0</td>\n",
       "      <td>0.01</td>\n",
       "      <td>0.58</td>\n",
       "      <td>0.0</td>\n",
       "      <td>0.38</td>\n",
       "    </tr>\n",
       "    <tr>\n",
       "      <th>4</th>\n",
       "      <td>202001</td>\n",
       "      <td>ADM_DONG</td>\n",
       "      <td>43</td>\n",
       "      <td>충청북도</td>\n",
       "      <td>43760</td>\n",
       "      <td>괴산군</td>\n",
       "      <td>43760390</td>\n",
       "      <td>사리면</td>\n",
       "      <td>2</td>\n",
       "      <td>30</td>\n",
       "      <td>0.00</td>\n",
       "      <td>0.47</td>\n",
       "      <td>0.0</td>\n",
       "      <td>0.00</td>\n",
       "      <td>0.07</td>\n",
       "      <td>0.0</td>\n",
       "      <td>0.46</td>\n",
       "    </tr>\n",
       "  </tbody>\n",
       "</table>\n",
       "</div>"
      ],
      "text/plain": [
       "   BS_YR_MON        GB  CT_PRVNC_CD CT_PRVNC_NM  CT_CNTY_GU_CD CT_CNTY_GU_NM  \\\n",
       "0     202001  ADM_DONG           27       대구광역시          27170            서구   \n",
       "1     202001  ADM_DONG           27       대구광역시          27170            서구   \n",
       "2     202001  ADM_DONG           43        충청북도          43760           괴산군   \n",
       "3     202001  ADM_DONG           43        충청북도          43760           괴산군   \n",
       "4     202001  ADM_DONG           43        충청북도          43760           괴산군   \n",
       "\n",
       "   ADM_DONG_CD ADM_DONG_NM  GENDER  AGE_CD  RT_MDL_GB_410  RT_MDL_GB_420  \\\n",
       "0     27170565      비산2.3동       2      50           0.00           0.39   \n",
       "1     27170565      비산2.3동       2      60           0.00           0.27   \n",
       "2     43760390         사리면       2      50           0.01           0.33   \n",
       "3     43760390         사리면       2      70           0.00           0.04   \n",
       "4     43760390         사리면       2      30           0.00           0.47   \n",
       "\n",
       "   RT_MDL_GB_430  RT_MDL_GB_440  RT_MDL_GB_510  RT_MDL_GB_520  RT_MDL_GB_910  \n",
       "0            0.0           0.00           0.16            0.0           0.45  \n",
       "1            0.0           0.00           0.11            0.0           0.61  \n",
       "2            0.0           0.00           0.23            0.0           0.43  \n",
       "3            0.0           0.01           0.58            0.0           0.38  \n",
       "4            0.0           0.00           0.07            0.0           0.46  "
      ]
     },
     "execution_count": 57,
     "metadata": {},
     "output_type": "execute_result"
    }
   ],
   "source": [
    "df1.head()"
   ]
  },
  {
   "cell_type": "code",
   "execution_count": 74,
   "metadata": {},
   "outputs": [
    {
     "data": {
      "text/html": [
       "<div>\n",
       "<style scoped>\n",
       "    .dataframe tbody tr th:only-of-type {\n",
       "        vertical-align: middle;\n",
       "    }\n",
       "\n",
       "    .dataframe tbody tr th {\n",
       "        vertical-align: top;\n",
       "    }\n",
       "\n",
       "    .dataframe thead th {\n",
       "        text-align: right;\n",
       "    }\n",
       "</style>\n",
       "<table border=\"1\" class=\"dataframe\">\n",
       "  <thead>\n",
       "    <tr style=\"text-align: right;\">\n",
       "      <th></th>\n",
       "      <th>BS_YR_MON</th>\n",
       "      <th>GB</th>\n",
       "      <th>CT_PRVNC_CD</th>\n",
       "      <th>CT_PRVNC_NM</th>\n",
       "      <th>CT_CNTY_GU_CD</th>\n",
       "      <th>CT_CNTY_GU_NM</th>\n",
       "      <th>ADM_DONG_CD</th>\n",
       "      <th>ADM_DONG_NM</th>\n",
       "      <th>GENDER</th>\n",
       "      <th>AGE_CD</th>\n",
       "      <th>AVG_SCR</th>\n",
       "      <th>RT_SCR1</th>\n",
       "      <th>RT_SCR2</th>\n",
       "      <th>RT_SCR3</th>\n",
       "    </tr>\n",
       "  </thead>\n",
       "  <tbody>\n",
       "    <tr>\n",
       "      <th>0</th>\n",
       "      <td>202001</td>\n",
       "      <td>ADM_DONG</td>\n",
       "      <td>43</td>\n",
       "      <td>충청북도</td>\n",
       "      <td>43770</td>\n",
       "      <td>음성군</td>\n",
       "      <td>43770360</td>\n",
       "      <td>생극면</td>\n",
       "      <td>2</td>\n",
       "      <td>60</td>\n",
       "      <td>4</td>\n",
       "      <td>0.54</td>\n",
       "      <td>0.38</td>\n",
       "      <td>0.08</td>\n",
       "    </tr>\n",
       "    <tr>\n",
       "      <th>1</th>\n",
       "      <td>202001</td>\n",
       "      <td>ADM_DONG</td>\n",
       "      <td>43</td>\n",
       "      <td>충청북도</td>\n",
       "      <td>43770</td>\n",
       "      <td>음성군</td>\n",
       "      <td>43770360</td>\n",
       "      <td>생극면</td>\n",
       "      <td>2</td>\n",
       "      <td>30</td>\n",
       "      <td>4</td>\n",
       "      <td>0.22</td>\n",
       "      <td>0.70</td>\n",
       "      <td>0.07</td>\n",
       "    </tr>\n",
       "    <tr>\n",
       "      <th>2</th>\n",
       "      <td>202001</td>\n",
       "      <td>ADM_DONG</td>\n",
       "      <td>43</td>\n",
       "      <td>충청북도</td>\n",
       "      <td>43770</td>\n",
       "      <td>음성군</td>\n",
       "      <td>43770360</td>\n",
       "      <td>생극면</td>\n",
       "      <td>2</td>\n",
       "      <td>40</td>\n",
       "      <td>5</td>\n",
       "      <td>0.35</td>\n",
       "      <td>0.48</td>\n",
       "      <td>0.17</td>\n",
       "    </tr>\n",
       "    <tr>\n",
       "      <th>3</th>\n",
       "      <td>202001</td>\n",
       "      <td>ADM_DONG</td>\n",
       "      <td>43</td>\n",
       "      <td>충청북도</td>\n",
       "      <td>43770</td>\n",
       "      <td>음성군</td>\n",
       "      <td>43770360</td>\n",
       "      <td>생극면</td>\n",
       "      <td>2</td>\n",
       "      <td>20</td>\n",
       "      <td>4</td>\n",
       "      <td>0.24</td>\n",
       "      <td>0.73</td>\n",
       "      <td>0.03</td>\n",
       "    </tr>\n",
       "    <tr>\n",
       "      <th>4</th>\n",
       "      <td>202001</td>\n",
       "      <td>ADM_DONG</td>\n",
       "      <td>43</td>\n",
       "      <td>충청북도</td>\n",
       "      <td>43770</td>\n",
       "      <td>음성군</td>\n",
       "      <td>43770360</td>\n",
       "      <td>생극면</td>\n",
       "      <td>2</td>\n",
       "      <td>70</td>\n",
       "      <td>4</td>\n",
       "      <td>0.55</td>\n",
       "      <td>0.39</td>\n",
       "      <td>0.06</td>\n",
       "    </tr>\n",
       "  </tbody>\n",
       "</table>\n",
       "</div>"
      ],
      "text/plain": [
       "   BS_YR_MON        GB  CT_PRVNC_CD CT_PRVNC_NM  CT_CNTY_GU_CD CT_CNTY_GU_NM  \\\n",
       "0     202001  ADM_DONG           43        충청북도          43770           음성군   \n",
       "1     202001  ADM_DONG           43        충청북도          43770           음성군   \n",
       "2     202001  ADM_DONG           43        충청북도          43770           음성군   \n",
       "3     202001  ADM_DONG           43        충청북도          43770           음성군   \n",
       "4     202001  ADM_DONG           43        충청북도          43770           음성군   \n",
       "\n",
       "   ADM_DONG_CD ADM_DONG_NM  GENDER  AGE_CD  AVG_SCR  RT_SCR1  RT_SCR2  RT_SCR3  \n",
       "0     43770360         생극면       2      60        4     0.54     0.38     0.08  \n",
       "1     43770360         생극면       2      30        4     0.22     0.70     0.07  \n",
       "2     43770360         생극면       2      40        5     0.35     0.48     0.17  \n",
       "3     43770360         생극면       2      20        4     0.24     0.73     0.03  \n",
       "4     43770360         생극면       2      70        4     0.55     0.39     0.06  "
      ]
     },
     "execution_count": 74,
     "metadata": {},
     "output_type": "execute_result"
    }
   ],
   "source": [
    "df2.head()"
   ]
  },
  {
   "cell_type": "code",
   "execution_count": 59,
   "metadata": {},
   "outputs": [
    {
     "data": {
      "text/html": [
       "<div>\n",
       "<style scoped>\n",
       "    .dataframe tbody tr th:only-of-type {\n",
       "        vertical-align: middle;\n",
       "    }\n",
       "\n",
       "    .dataframe tbody tr th {\n",
       "        vertical-align: top;\n",
       "    }\n",
       "\n",
       "    .dataframe thead th {\n",
       "        text-align: right;\n",
       "    }\n",
       "</style>\n",
       "<table border=\"1\" class=\"dataframe\">\n",
       "  <thead>\n",
       "    <tr style=\"text-align: right;\">\n",
       "      <th></th>\n",
       "      <th>BS_YR_MON</th>\n",
       "      <th>GB</th>\n",
       "      <th>CT_PRVNC_CD</th>\n",
       "      <th>CT_PRVNC_NM</th>\n",
       "      <th>CT_CNTY_GU_CD</th>\n",
       "      <th>CT_CNTY_GU_NM</th>\n",
       "      <th>ADM_DONG_CD</th>\n",
       "      <th>ADM_DONG_NM</th>\n",
       "      <th>GENDER</th>\n",
       "      <th>AGE_CD</th>\n",
       "      <th>...</th>\n",
       "      <th>CAR_SZ02_CNT</th>\n",
       "      <th>CAR_SZ03_CNT</th>\n",
       "      <th>CAR_SZ04_CNT</th>\n",
       "      <th>CAR_SZ05_CNT</th>\n",
       "      <th>CAR_DMST_CNT</th>\n",
       "      <th>CAR_FRGN_CNT</th>\n",
       "      <th>CAR_NEW_CNT</th>\n",
       "      <th>CAR_USED_CNT</th>\n",
       "      <th>AVG_CAR_AMT</th>\n",
       "      <th>RT_LSE_OWN</th>\n",
       "    </tr>\n",
       "  </thead>\n",
       "  <tbody>\n",
       "    <tr>\n",
       "      <th>0</th>\n",
       "      <td>202001</td>\n",
       "      <td>ADM_DONG</td>\n",
       "      <td>28</td>\n",
       "      <td>인천광역시</td>\n",
       "      <td>28110</td>\n",
       "      <td>중구</td>\n",
       "      <td>28110540</td>\n",
       "      <td>신흥동</td>\n",
       "      <td>2</td>\n",
       "      <td>60</td>\n",
       "      <td>...</td>\n",
       "      <td>3</td>\n",
       "      <td>19</td>\n",
       "      <td>16</td>\n",
       "      <td>17</td>\n",
       "      <td>61</td>\n",
       "      <td>6</td>\n",
       "      <td>44</td>\n",
       "      <td>22</td>\n",
       "      <td>1902.0</td>\n",
       "      <td>0.0</td>\n",
       "    </tr>\n",
       "    <tr>\n",
       "      <th>1</th>\n",
       "      <td>202001</td>\n",
       "      <td>ADM_DONG</td>\n",
       "      <td>28</td>\n",
       "      <td>인천광역시</td>\n",
       "      <td>28110</td>\n",
       "      <td>중구</td>\n",
       "      <td>28110540</td>\n",
       "      <td>신흥동</td>\n",
       "      <td>2</td>\n",
       "      <td>70</td>\n",
       "      <td>...</td>\n",
       "      <td>0</td>\n",
       "      <td>4</td>\n",
       "      <td>5</td>\n",
       "      <td>7</td>\n",
       "      <td>15</td>\n",
       "      <td>2</td>\n",
       "      <td>14</td>\n",
       "      <td>3</td>\n",
       "      <td>1972.0</td>\n",
       "      <td>0.0</td>\n",
       "    </tr>\n",
       "    <tr>\n",
       "      <th>2</th>\n",
       "      <td>202001</td>\n",
       "      <td>ADM_DONG</td>\n",
       "      <td>28</td>\n",
       "      <td>인천광역시</td>\n",
       "      <td>28245</td>\n",
       "      <td>계양구</td>\n",
       "      <td>28245640</td>\n",
       "      <td>작전서운동</td>\n",
       "      <td>1</td>\n",
       "      <td>20</td>\n",
       "      <td>...</td>\n",
       "      <td>3</td>\n",
       "      <td>24</td>\n",
       "      <td>29</td>\n",
       "      <td>19</td>\n",
       "      <td>79</td>\n",
       "      <td>7</td>\n",
       "      <td>29</td>\n",
       "      <td>54</td>\n",
       "      <td>2268.0</td>\n",
       "      <td>0.0</td>\n",
       "    </tr>\n",
       "    <tr>\n",
       "      <th>3</th>\n",
       "      <td>202001</td>\n",
       "      <td>ADM_DONG</td>\n",
       "      <td>28</td>\n",
       "      <td>인천광역시</td>\n",
       "      <td>28245</td>\n",
       "      <td>계양구</td>\n",
       "      <td>28245640</td>\n",
       "      <td>작전서운동</td>\n",
       "      <td>1</td>\n",
       "      <td>40</td>\n",
       "      <td>...</td>\n",
       "      <td>6</td>\n",
       "      <td>63</td>\n",
       "      <td>173</td>\n",
       "      <td>242</td>\n",
       "      <td>503</td>\n",
       "      <td>46</td>\n",
       "      <td>339</td>\n",
       "      <td>189</td>\n",
       "      <td>2409.0</td>\n",
       "      <td>0.0</td>\n",
       "    </tr>\n",
       "    <tr>\n",
       "      <th>4</th>\n",
       "      <td>202001</td>\n",
       "      <td>ADM_DONG</td>\n",
       "      <td>28</td>\n",
       "      <td>인천광역시</td>\n",
       "      <td>28245</td>\n",
       "      <td>계양구</td>\n",
       "      <td>28245640</td>\n",
       "      <td>작전서운동</td>\n",
       "      <td>1</td>\n",
       "      <td>30</td>\n",
       "      <td>...</td>\n",
       "      <td>5</td>\n",
       "      <td>98</td>\n",
       "      <td>128</td>\n",
       "      <td>108</td>\n",
       "      <td>350</td>\n",
       "      <td>39</td>\n",
       "      <td>235</td>\n",
       "      <td>135</td>\n",
       "      <td>2228.0</td>\n",
       "      <td>0.0</td>\n",
       "    </tr>\n",
       "  </tbody>\n",
       "</table>\n",
       "<p>5 rows × 21 columns</p>\n",
       "</div>"
      ],
      "text/plain": [
       "   BS_YR_MON        GB  CT_PRVNC_CD CT_PRVNC_NM  CT_CNTY_GU_CD CT_CNTY_GU_NM  \\\n",
       "0     202001  ADM_DONG           28       인천광역시          28110            중구   \n",
       "1     202001  ADM_DONG           28       인천광역시          28110            중구   \n",
       "2     202001  ADM_DONG           28       인천광역시          28245           계양구   \n",
       "3     202001  ADM_DONG           28       인천광역시          28245           계양구   \n",
       "4     202001  ADM_DONG           28       인천광역시          28245           계양구   \n",
       "\n",
       "   ADM_DONG_CD ADM_DONG_NM  GENDER  AGE_CD  ...  CAR_SZ02_CNT  CAR_SZ03_CNT  \\\n",
       "0     28110540         신흥동       2      60  ...             3            19   \n",
       "1     28110540         신흥동       2      70  ...             0             4   \n",
       "2     28245640       작전서운동       1      20  ...             3            24   \n",
       "3     28245640       작전서운동       1      40  ...             6            63   \n",
       "4     28245640       작전서운동       1      30  ...             5            98   \n",
       "\n",
       "   CAR_SZ04_CNT  CAR_SZ05_CNT  CAR_DMST_CNT  CAR_FRGN_CNT  CAR_NEW_CNT  \\\n",
       "0            16            17            61             6           44   \n",
       "1             5             7            15             2           14   \n",
       "2            29            19            79             7           29   \n",
       "3           173           242           503            46          339   \n",
       "4           128           108           350            39          235   \n",
       "\n",
       "   CAR_USED_CNT  AVG_CAR_AMT  RT_LSE_OWN  \n",
       "0            22       1902.0         0.0  \n",
       "1             3       1972.0         0.0  \n",
       "2            54       2268.0         0.0  \n",
       "3           189       2409.0         0.0  \n",
       "4           135       2228.0         0.0  \n",
       "\n",
       "[5 rows x 21 columns]"
      ]
     },
     "execution_count": 59,
     "metadata": {},
     "output_type": "execute_result"
    }
   ],
   "source": [
    "df3.head()"
   ]
  },
  {
   "cell_type": "markdown",
   "metadata": {},
   "source": [
    "# 직업군별 비율 (2)번 파일 수정 시작"
   ]
  },
  {
   "cell_type": "markdown",
   "metadata": {},
   "source": [
    "### 안쓰는 컬럼 제거"
   ]
  },
  {
   "cell_type": "code",
   "execution_count": 60,
   "metadata": {},
   "outputs": [
    {
     "data": {
      "text/plain": [
       "Index(['BS_YR_MON', 'GB', 'CT_PRVNC_CD', 'CT_PRVNC_NM', 'CT_CNTY_GU_CD',\n",
       "       'CT_CNTY_GU_NM', 'ADM_DONG_CD', 'ADM_DONG_NM', 'GENDER', 'AGE_CD',\n",
       "       'RT_MDL_GB_410', 'RT_MDL_GB_420', 'RT_MDL_GB_430', 'RT_MDL_GB_440',\n",
       "       'RT_MDL_GB_510', 'RT_MDL_GB_520', 'RT_MDL_GB_910'],\n",
       "      dtype='object')"
      ]
     },
     "execution_count": 60,
     "metadata": {},
     "output_type": "execute_result"
    }
   ],
   "source": [
    "cols1 = df1.columns\n",
    "cols1"
   ]
  },
  {
   "cell_type": "code",
   "execution_count": 61,
   "metadata": {},
   "outputs": [
    {
     "data": {
      "text/plain": [
       "Index(['CT_PRVNC_CD', 'CT_CNTY_GU_CD'], dtype='object')"
      ]
     },
     "execution_count": 61,
     "metadata": {},
     "output_type": "execute_result"
    }
   ],
   "source": [
    "cols_cd = cols1[cols1.str.contains(\"PRVNC_CD|_GU_CD\")]\n",
    "cols_cd"
   ]
  },
  {
   "cell_type": "code",
   "execution_count": 62,
   "metadata": {},
   "outputs": [
    {
     "data": {
      "text/html": [
       "<div>\n",
       "<style scoped>\n",
       "    .dataframe tbody tr th:only-of-type {\n",
       "        vertical-align: middle;\n",
       "    }\n",
       "\n",
       "    .dataframe tbody tr th {\n",
       "        vertical-align: top;\n",
       "    }\n",
       "\n",
       "    .dataframe thead th {\n",
       "        text-align: right;\n",
       "    }\n",
       "</style>\n",
       "<table border=\"1\" class=\"dataframe\">\n",
       "  <thead>\n",
       "    <tr style=\"text-align: right;\">\n",
       "      <th></th>\n",
       "      <th>BS_YR_MON</th>\n",
       "      <th>GB</th>\n",
       "      <th>CT_PRVNC_NM</th>\n",
       "      <th>CT_CNTY_GU_NM</th>\n",
       "      <th>ADM_DONG_CD</th>\n",
       "      <th>ADM_DONG_NM</th>\n",
       "      <th>GENDER</th>\n",
       "      <th>AGE_CD</th>\n",
       "      <th>RT_MDL_GB_410</th>\n",
       "      <th>RT_MDL_GB_420</th>\n",
       "      <th>RT_MDL_GB_430</th>\n",
       "      <th>RT_MDL_GB_440</th>\n",
       "      <th>RT_MDL_GB_510</th>\n",
       "      <th>RT_MDL_GB_520</th>\n",
       "      <th>RT_MDL_GB_910</th>\n",
       "    </tr>\n",
       "  </thead>\n",
       "  <tbody>\n",
       "    <tr>\n",
       "      <th>0</th>\n",
       "      <td>202001</td>\n",
       "      <td>ADM_DONG</td>\n",
       "      <td>대구광역시</td>\n",
       "      <td>서구</td>\n",
       "      <td>27170565</td>\n",
       "      <td>비산2.3동</td>\n",
       "      <td>2</td>\n",
       "      <td>50</td>\n",
       "      <td>0.00</td>\n",
       "      <td>0.39</td>\n",
       "      <td>0.0</td>\n",
       "      <td>0.0</td>\n",
       "      <td>0.16</td>\n",
       "      <td>0.0</td>\n",
       "      <td>0.45</td>\n",
       "    </tr>\n",
       "    <tr>\n",
       "      <th>1</th>\n",
       "      <td>202001</td>\n",
       "      <td>ADM_DONG</td>\n",
       "      <td>대구광역시</td>\n",
       "      <td>서구</td>\n",
       "      <td>27170565</td>\n",
       "      <td>비산2.3동</td>\n",
       "      <td>2</td>\n",
       "      <td>60</td>\n",
       "      <td>0.00</td>\n",
       "      <td>0.27</td>\n",
       "      <td>0.0</td>\n",
       "      <td>0.0</td>\n",
       "      <td>0.11</td>\n",
       "      <td>0.0</td>\n",
       "      <td>0.61</td>\n",
       "    </tr>\n",
       "    <tr>\n",
       "      <th>2</th>\n",
       "      <td>202001</td>\n",
       "      <td>ADM_DONG</td>\n",
       "      <td>충청북도</td>\n",
       "      <td>괴산군</td>\n",
       "      <td>43760390</td>\n",
       "      <td>사리면</td>\n",
       "      <td>2</td>\n",
       "      <td>50</td>\n",
       "      <td>0.01</td>\n",
       "      <td>0.33</td>\n",
       "      <td>0.0</td>\n",
       "      <td>0.0</td>\n",
       "      <td>0.23</td>\n",
       "      <td>0.0</td>\n",
       "      <td>0.43</td>\n",
       "    </tr>\n",
       "  </tbody>\n",
       "</table>\n",
       "</div>"
      ],
      "text/plain": [
       "   BS_YR_MON        GB CT_PRVNC_NM CT_CNTY_GU_NM  ADM_DONG_CD ADM_DONG_NM  \\\n",
       "0     202001  ADM_DONG       대구광역시            서구     27170565      비산2.3동   \n",
       "1     202001  ADM_DONG       대구광역시            서구     27170565      비산2.3동   \n",
       "2     202001  ADM_DONG        충청북도           괴산군     43760390         사리면   \n",
       "\n",
       "   GENDER  AGE_CD  RT_MDL_GB_410  RT_MDL_GB_420  RT_MDL_GB_430  RT_MDL_GB_440  \\\n",
       "0       2      50           0.00           0.39            0.0            0.0   \n",
       "1       2      60           0.00           0.27            0.0            0.0   \n",
       "2       2      50           0.01           0.33            0.0            0.0   \n",
       "\n",
       "   RT_MDL_GB_510  RT_MDL_GB_520  RT_MDL_GB_910  \n",
       "0           0.16            0.0           0.45  \n",
       "1           0.11            0.0           0.61  \n",
       "2           0.23            0.0           0.43  "
      ]
     },
     "execution_count": 62,
     "metadata": {},
     "output_type": "execute_result"
    }
   ],
   "source": [
    "df1 = df1.drop(cols_cd, axis=1)\n",
    "df1.head(3)"
   ]
  },
  {
   "cell_type": "code",
   "execution_count": 63,
   "metadata": {},
   "outputs": [
    {
     "data": {
      "text/html": [
       "<div>\n",
       "<style scoped>\n",
       "    .dataframe tbody tr th:only-of-type {\n",
       "        vertical-align: middle;\n",
       "    }\n",
       "\n",
       "    .dataframe tbody tr th {\n",
       "        vertical-align: top;\n",
       "    }\n",
       "\n",
       "    .dataframe thead th {\n",
       "        text-align: right;\n",
       "    }\n",
       "</style>\n",
       "<table border=\"1\" class=\"dataframe\">\n",
       "  <thead>\n",
       "    <tr style=\"text-align: right;\">\n",
       "      <th></th>\n",
       "      <th>CT_PRVNC_NM</th>\n",
       "      <th>CT_CNTY_GU_NM</th>\n",
       "      <th>ADM_DONG_NM</th>\n",
       "      <th>GENDER</th>\n",
       "      <th>AGE_CD</th>\n",
       "      <th>RT_MDL_GB_410</th>\n",
       "      <th>RT_MDL_GB_420</th>\n",
       "      <th>RT_MDL_GB_430</th>\n",
       "      <th>RT_MDL_GB_440</th>\n",
       "      <th>RT_MDL_GB_510</th>\n",
       "      <th>RT_MDL_GB_520</th>\n",
       "      <th>RT_MDL_GB_910</th>\n",
       "    </tr>\n",
       "  </thead>\n",
       "  <tbody>\n",
       "    <tr>\n",
       "      <th>0</th>\n",
       "      <td>대구광역시</td>\n",
       "      <td>서구</td>\n",
       "      <td>비산2.3동</td>\n",
       "      <td>2</td>\n",
       "      <td>50</td>\n",
       "      <td>0.00</td>\n",
       "      <td>0.39</td>\n",
       "      <td>0.0</td>\n",
       "      <td>0.0</td>\n",
       "      <td>0.16</td>\n",
       "      <td>0.0</td>\n",
       "      <td>0.45</td>\n",
       "    </tr>\n",
       "    <tr>\n",
       "      <th>1</th>\n",
       "      <td>대구광역시</td>\n",
       "      <td>서구</td>\n",
       "      <td>비산2.3동</td>\n",
       "      <td>2</td>\n",
       "      <td>60</td>\n",
       "      <td>0.00</td>\n",
       "      <td>0.27</td>\n",
       "      <td>0.0</td>\n",
       "      <td>0.0</td>\n",
       "      <td>0.11</td>\n",
       "      <td>0.0</td>\n",
       "      <td>0.61</td>\n",
       "    </tr>\n",
       "    <tr>\n",
       "      <th>2</th>\n",
       "      <td>충청북도</td>\n",
       "      <td>괴산군</td>\n",
       "      <td>사리면</td>\n",
       "      <td>2</td>\n",
       "      <td>50</td>\n",
       "      <td>0.01</td>\n",
       "      <td>0.33</td>\n",
       "      <td>0.0</td>\n",
       "      <td>0.0</td>\n",
       "      <td>0.23</td>\n",
       "      <td>0.0</td>\n",
       "      <td>0.43</td>\n",
       "    </tr>\n",
       "  </tbody>\n",
       "</table>\n",
       "</div>"
      ],
      "text/plain": [
       "  CT_PRVNC_NM CT_CNTY_GU_NM ADM_DONG_NM  GENDER  AGE_CD  RT_MDL_GB_410  \\\n",
       "0       대구광역시            서구      비산2.3동       2      50           0.00   \n",
       "1       대구광역시            서구      비산2.3동       2      60           0.00   \n",
       "2        충청북도           괴산군         사리면       2      50           0.01   \n",
       "\n",
       "   RT_MDL_GB_420  RT_MDL_GB_430  RT_MDL_GB_440  RT_MDL_GB_510  RT_MDL_GB_520  \\\n",
       "0           0.39            0.0            0.0           0.16            0.0   \n",
       "1           0.27            0.0            0.0           0.11            0.0   \n",
       "2           0.33            0.0            0.0           0.23            0.0   \n",
       "\n",
       "   RT_MDL_GB_910  \n",
       "0           0.45  \n",
       "1           0.61  \n",
       "2           0.43  "
      ]
     },
     "execution_count": 63,
     "metadata": {},
     "output_type": "execute_result"
    }
   ],
   "source": [
    "df1 = df1.drop(\"GB\",axis=1)\n",
    "df1 = df1.drop(\"BS_YR_MON\",axis=1)\n",
    "df1 = df1.drop(\"ADM_DONG_CD\",axis=1)\n",
    "\n",
    "df1.head(3)"
   ]
  },
  {
   "cell_type": "markdown",
   "metadata": {},
   "source": [
    "### 컬럼명 변경 : 직업군별 비율 (2)번 파일 수정 완료"
   ]
  },
  {
   "cell_type": "code",
   "execution_count": 64,
   "metadata": {},
   "outputs": [
    {
     "data": {
      "text/html": [
       "<div>\n",
       "<style scoped>\n",
       "    .dataframe tbody tr th:only-of-type {\n",
       "        vertical-align: middle;\n",
       "    }\n",
       "\n",
       "    .dataframe tbody tr th {\n",
       "        vertical-align: top;\n",
       "    }\n",
       "\n",
       "    .dataframe thead th {\n",
       "        text-align: right;\n",
       "    }\n",
       "</style>\n",
       "<table border=\"1\" class=\"dataframe\">\n",
       "  <thead>\n",
       "    <tr style=\"text-align: right;\">\n",
       "      <th></th>\n",
       "      <th>시도명</th>\n",
       "      <th>시군구명</th>\n",
       "      <th>행정동명</th>\n",
       "      <th>성별</th>\n",
       "      <th>연령대</th>\n",
       "      <th>대기업급여소득자</th>\n",
       "      <th>일반급여소득자</th>\n",
       "      <th>전문직급여소득자</th>\n",
       "      <th>대표</th>\n",
       "      <th>일반자영업자</th>\n",
       "      <th>전문직자영업자</th>\n",
       "      <th>기타</th>\n",
       "    </tr>\n",
       "  </thead>\n",
       "  <tbody>\n",
       "    <tr>\n",
       "      <th>0</th>\n",
       "      <td>대구광역시</td>\n",
       "      <td>서구</td>\n",
       "      <td>비산2.3동</td>\n",
       "      <td>2</td>\n",
       "      <td>50</td>\n",
       "      <td>0.00</td>\n",
       "      <td>0.39</td>\n",
       "      <td>0.0</td>\n",
       "      <td>0.0</td>\n",
       "      <td>0.16</td>\n",
       "      <td>0.0</td>\n",
       "      <td>0.45</td>\n",
       "    </tr>\n",
       "    <tr>\n",
       "      <th>1</th>\n",
       "      <td>대구광역시</td>\n",
       "      <td>서구</td>\n",
       "      <td>비산2.3동</td>\n",
       "      <td>2</td>\n",
       "      <td>60</td>\n",
       "      <td>0.00</td>\n",
       "      <td>0.27</td>\n",
       "      <td>0.0</td>\n",
       "      <td>0.0</td>\n",
       "      <td>0.11</td>\n",
       "      <td>0.0</td>\n",
       "      <td>0.61</td>\n",
       "    </tr>\n",
       "    <tr>\n",
       "      <th>2</th>\n",
       "      <td>충청북도</td>\n",
       "      <td>괴산군</td>\n",
       "      <td>사리면</td>\n",
       "      <td>2</td>\n",
       "      <td>50</td>\n",
       "      <td>0.01</td>\n",
       "      <td>0.33</td>\n",
       "      <td>0.0</td>\n",
       "      <td>0.0</td>\n",
       "      <td>0.23</td>\n",
       "      <td>0.0</td>\n",
       "      <td>0.43</td>\n",
       "    </tr>\n",
       "  </tbody>\n",
       "</table>\n",
       "</div>"
      ],
      "text/plain": [
       "     시도명 시군구명    행정동명  성별  연령대  대기업급여소득자  일반급여소득자  전문직급여소득자   대표  일반자영업자  \\\n",
       "0  대구광역시   서구  비산2.3동   2   50      0.00     0.39       0.0  0.0    0.16   \n",
       "1  대구광역시   서구  비산2.3동   2   60      0.00     0.27       0.0  0.0    0.11   \n",
       "2   충청북도  괴산군     사리면   2   50      0.01     0.33       0.0  0.0    0.23   \n",
       "\n",
       "   전문직자영업자    기타  \n",
       "0      0.0  0.45  \n",
       "1      0.0  0.61  \n",
       "2      0.0  0.43  "
      ]
     },
     "execution_count": 64,
     "metadata": {},
     "output_type": "execute_result"
    }
   ],
   "source": [
    "df1.columns = [\"시도명\",\"시군구명\",\"행정동명\",\"성별\",\"연령대\",\"대기업급여소득자\", \"일반급여소득자\", \"전문직급여소득자\", \"대표\", \"일반자영업자\", \"전문직자영업자\", \"기타\"]\n",
    "df1.head(3)"
   ]
  },
  {
   "cell_type": "markdown",
   "metadata": {},
   "source": [
    "# 지역단위신용점수 (6)번 파일 수정 시작"
   ]
  },
  {
   "cell_type": "code",
   "execution_count": 75,
   "metadata": {},
   "outputs": [
    {
     "data": {
      "text/html": [
       "<div>\n",
       "<style scoped>\n",
       "    .dataframe tbody tr th:only-of-type {\n",
       "        vertical-align: middle;\n",
       "    }\n",
       "\n",
       "    .dataframe tbody tr th {\n",
       "        vertical-align: top;\n",
       "    }\n",
       "\n",
       "    .dataframe thead th {\n",
       "        text-align: right;\n",
       "    }\n",
       "</style>\n",
       "<table border=\"1\" class=\"dataframe\">\n",
       "  <thead>\n",
       "    <tr style=\"text-align: right;\">\n",
       "      <th></th>\n",
       "      <th>BS_YR_MON</th>\n",
       "      <th>GB</th>\n",
       "      <th>CT_PRVNC_CD</th>\n",
       "      <th>CT_PRVNC_NM</th>\n",
       "      <th>CT_CNTY_GU_CD</th>\n",
       "      <th>CT_CNTY_GU_NM</th>\n",
       "      <th>ADM_DONG_CD</th>\n",
       "      <th>ADM_DONG_NM</th>\n",
       "      <th>GENDER</th>\n",
       "      <th>AGE_CD</th>\n",
       "      <th>AVG_SCR</th>\n",
       "      <th>RT_SCR1</th>\n",
       "      <th>RT_SCR2</th>\n",
       "      <th>RT_SCR3</th>\n",
       "    </tr>\n",
       "  </thead>\n",
       "  <tbody>\n",
       "    <tr>\n",
       "      <th>0</th>\n",
       "      <td>202001</td>\n",
       "      <td>ADM_DONG</td>\n",
       "      <td>43</td>\n",
       "      <td>충청북도</td>\n",
       "      <td>43770</td>\n",
       "      <td>음성군</td>\n",
       "      <td>43770360</td>\n",
       "      <td>생극면</td>\n",
       "      <td>2</td>\n",
       "      <td>60</td>\n",
       "      <td>4</td>\n",
       "      <td>0.54</td>\n",
       "      <td>0.38</td>\n",
       "      <td>0.08</td>\n",
       "    </tr>\n",
       "    <tr>\n",
       "      <th>1</th>\n",
       "      <td>202001</td>\n",
       "      <td>ADM_DONG</td>\n",
       "      <td>43</td>\n",
       "      <td>충청북도</td>\n",
       "      <td>43770</td>\n",
       "      <td>음성군</td>\n",
       "      <td>43770360</td>\n",
       "      <td>생극면</td>\n",
       "      <td>2</td>\n",
       "      <td>30</td>\n",
       "      <td>4</td>\n",
       "      <td>0.22</td>\n",
       "      <td>0.70</td>\n",
       "      <td>0.07</td>\n",
       "    </tr>\n",
       "  </tbody>\n",
       "</table>\n",
       "</div>"
      ],
      "text/plain": [
       "   BS_YR_MON        GB  CT_PRVNC_CD CT_PRVNC_NM  CT_CNTY_GU_CD CT_CNTY_GU_NM  \\\n",
       "0     202001  ADM_DONG           43        충청북도          43770           음성군   \n",
       "1     202001  ADM_DONG           43        충청북도          43770           음성군   \n",
       "\n",
       "   ADM_DONG_CD ADM_DONG_NM  GENDER  AGE_CD  AVG_SCR  RT_SCR1  RT_SCR2  RT_SCR3  \n",
       "0     43770360         생극면       2      60        4     0.54     0.38     0.08  \n",
       "1     43770360         생극면       2      30        4     0.22     0.70     0.07  "
      ]
     },
     "execution_count": 75,
     "metadata": {},
     "output_type": "execute_result"
    }
   ],
   "source": [
    "df2.head(2)"
   ]
  },
  {
   "cell_type": "code",
   "execution_count": 76,
   "metadata": {},
   "outputs": [
    {
     "data": {
      "text/plain": [
       "Index(['BS_YR_MON', 'GB', 'CT_PRVNC_CD', 'CT_PRVNC_NM', 'CT_CNTY_GU_CD',\n",
       "       'CT_CNTY_GU_NM', 'ADM_DONG_CD', 'ADM_DONG_NM', 'GENDER', 'AGE_CD',\n",
       "       'AVG_SCR', 'RT_SCR1', 'RT_SCR2', 'RT_SCR3'],\n",
       "      dtype='object')"
      ]
     },
     "execution_count": 76,
     "metadata": {},
     "output_type": "execute_result"
    }
   ],
   "source": [
    "cols2 = df2.columns\n",
    "cols2"
   ]
  },
  {
   "cell_type": "code",
   "execution_count": 77,
   "metadata": {},
   "outputs": [
    {
     "data": {
      "text/html": [
       "<div>\n",
       "<style scoped>\n",
       "    .dataframe tbody tr th:only-of-type {\n",
       "        vertical-align: middle;\n",
       "    }\n",
       "\n",
       "    .dataframe tbody tr th {\n",
       "        vertical-align: top;\n",
       "    }\n",
       "\n",
       "    .dataframe thead th {\n",
       "        text-align: right;\n",
       "    }\n",
       "</style>\n",
       "<table border=\"1\" class=\"dataframe\">\n",
       "  <thead>\n",
       "    <tr style=\"text-align: right;\">\n",
       "      <th></th>\n",
       "      <th>CT_PRVNC_NM</th>\n",
       "      <th>CT_CNTY_GU_NM</th>\n",
       "      <th>ADM_DONG_NM</th>\n",
       "      <th>GENDER</th>\n",
       "      <th>AGE_CD</th>\n",
       "      <th>AVG_SCR</th>\n",
       "      <th>RT_SCR1</th>\n",
       "      <th>RT_SCR2</th>\n",
       "      <th>RT_SCR3</th>\n",
       "    </tr>\n",
       "  </thead>\n",
       "  <tbody>\n",
       "    <tr>\n",
       "      <th>0</th>\n",
       "      <td>충청북도</td>\n",
       "      <td>음성군</td>\n",
       "      <td>생극면</td>\n",
       "      <td>2</td>\n",
       "      <td>60</td>\n",
       "      <td>4</td>\n",
       "      <td>0.54</td>\n",
       "      <td>0.38</td>\n",
       "      <td>0.08</td>\n",
       "    </tr>\n",
       "    <tr>\n",
       "      <th>1</th>\n",
       "      <td>충청북도</td>\n",
       "      <td>음성군</td>\n",
       "      <td>생극면</td>\n",
       "      <td>2</td>\n",
       "      <td>30</td>\n",
       "      <td>4</td>\n",
       "      <td>0.22</td>\n",
       "      <td>0.70</td>\n",
       "      <td>0.07</td>\n",
       "    </tr>\n",
       "    <tr>\n",
       "      <th>2</th>\n",
       "      <td>충청북도</td>\n",
       "      <td>음성군</td>\n",
       "      <td>생극면</td>\n",
       "      <td>2</td>\n",
       "      <td>40</td>\n",
       "      <td>5</td>\n",
       "      <td>0.35</td>\n",
       "      <td>0.48</td>\n",
       "      <td>0.17</td>\n",
       "    </tr>\n",
       "  </tbody>\n",
       "</table>\n",
       "</div>"
      ],
      "text/plain": [
       "  CT_PRVNC_NM CT_CNTY_GU_NM ADM_DONG_NM  GENDER  AGE_CD  AVG_SCR  RT_SCR1  \\\n",
       "0        충청북도           음성군         생극면       2      60        4     0.54   \n",
       "1        충청북도           음성군         생극면       2      30        4     0.22   \n",
       "2        충청북도           음성군         생극면       2      40        5     0.35   \n",
       "\n",
       "   RT_SCR2  RT_SCR3  \n",
       "0     0.38     0.08  \n",
       "1     0.70     0.07  \n",
       "2     0.48     0.17  "
      ]
     },
     "execution_count": 77,
     "metadata": {},
     "output_type": "execute_result"
    }
   ],
   "source": [
    "df2 = df2.drop('BS_YR_MON',axis=1)\n",
    "df2 = df2.drop('GB',axis=1)\n",
    "df2 = df2.drop('CT_PRVNC_CD',axis=1)\n",
    "df2 = df2.drop('CT_CNTY_GU_CD',axis=1)\n",
    "df2 = df2.drop(\"ADM_DONG_CD\",axis=1)\n",
    "\n",
    "df2.head(3)\n"
   ]
  },
  {
   "cell_type": "markdown",
   "metadata": {},
   "source": [
    "### 컬럼명 변경"
   ]
  },
  {
   "cell_type": "code",
   "execution_count": 78,
   "metadata": {},
   "outputs": [
    {
     "data": {
      "text/html": [
       "<div>\n",
       "<style scoped>\n",
       "    .dataframe tbody tr th:only-of-type {\n",
       "        vertical-align: middle;\n",
       "    }\n",
       "\n",
       "    .dataframe tbody tr th {\n",
       "        vertical-align: top;\n",
       "    }\n",
       "\n",
       "    .dataframe thead th {\n",
       "        text-align: right;\n",
       "    }\n",
       "</style>\n",
       "<table border=\"1\" class=\"dataframe\">\n",
       "  <thead>\n",
       "    <tr style=\"text-align: right;\">\n",
       "      <th></th>\n",
       "      <th>시도명</th>\n",
       "      <th>시군구명</th>\n",
       "      <th>행정동명</th>\n",
       "      <th>성별</th>\n",
       "      <th>연령대</th>\n",
       "      <th>평균신용점수</th>\n",
       "      <th>상위신용점수자 비율</th>\n",
       "      <th>중위신용점수자 비율</th>\n",
       "      <th>하위신용점수자 비율</th>\n",
       "    </tr>\n",
       "  </thead>\n",
       "  <tbody>\n",
       "    <tr>\n",
       "      <th>0</th>\n",
       "      <td>충청북도</td>\n",
       "      <td>음성군</td>\n",
       "      <td>생극면</td>\n",
       "      <td>2</td>\n",
       "      <td>60</td>\n",
       "      <td>4</td>\n",
       "      <td>0.54</td>\n",
       "      <td>0.38</td>\n",
       "      <td>0.08</td>\n",
       "    </tr>\n",
       "    <tr>\n",
       "      <th>1</th>\n",
       "      <td>충청북도</td>\n",
       "      <td>음성군</td>\n",
       "      <td>생극면</td>\n",
       "      <td>2</td>\n",
       "      <td>30</td>\n",
       "      <td>4</td>\n",
       "      <td>0.22</td>\n",
       "      <td>0.70</td>\n",
       "      <td>0.07</td>\n",
       "    </tr>\n",
       "    <tr>\n",
       "      <th>2</th>\n",
       "      <td>충청북도</td>\n",
       "      <td>음성군</td>\n",
       "      <td>생극면</td>\n",
       "      <td>2</td>\n",
       "      <td>40</td>\n",
       "      <td>5</td>\n",
       "      <td>0.35</td>\n",
       "      <td>0.48</td>\n",
       "      <td>0.17</td>\n",
       "    </tr>\n",
       "  </tbody>\n",
       "</table>\n",
       "</div>"
      ],
      "text/plain": [
       "    시도명 시군구명 행정동명  성별  연령대  평균신용점수  상위신용점수자 비율  중위신용점수자 비율  하위신용점수자 비율\n",
       "0  충청북도  음성군  생극면   2   60       4        0.54        0.38        0.08\n",
       "1  충청북도  음성군  생극면   2   30       4        0.22        0.70        0.07\n",
       "2  충청북도  음성군  생극면   2   40       5        0.35        0.48        0.17"
      ]
     },
     "execution_count": 78,
     "metadata": {},
     "output_type": "execute_result"
    }
   ],
   "source": [
    "df2.columns = [\"시도명\",\"시군구명\",\"행정동명\",\"성별\",\"연령대\", \"평균신용점수\", \"상위신용점수자 비율\", \"중위신용점수자 비율\", \"하위신용점수자 비율\"]\n",
    "df2.head(3)"
   ]
  },
  {
   "cell_type": "markdown",
   "metadata": {},
   "source": [
    "### 데이터 시각화 시작"
   ]
  },
  {
   "cell_type": "code",
   "execution_count": 79,
   "metadata": {},
   "outputs": [
    {
     "data": {
      "text/html": [
       "<div>\n",
       "<style scoped>\n",
       "    .dataframe tbody tr th:only-of-type {\n",
       "        vertical-align: middle;\n",
       "    }\n",
       "\n",
       "    .dataframe tbody tr th {\n",
       "        vertical-align: top;\n",
       "    }\n",
       "\n",
       "    .dataframe thead th {\n",
       "        text-align: right;\n",
       "    }\n",
       "</style>\n",
       "<table border=\"1\" class=\"dataframe\">\n",
       "  <thead>\n",
       "    <tr style=\"text-align: right;\">\n",
       "      <th></th>\n",
       "      <th>시도명</th>\n",
       "      <th>시군구명</th>\n",
       "      <th>행정동명</th>\n",
       "      <th>성별</th>\n",
       "      <th>연령대</th>\n",
       "      <th>대기업급여소득자</th>\n",
       "      <th>일반급여소득자</th>\n",
       "      <th>전문직급여소득자</th>\n",
       "      <th>대표</th>\n",
       "      <th>일반자영업자</th>\n",
       "      <th>전문직자영업자</th>\n",
       "      <th>기타</th>\n",
       "    </tr>\n",
       "  </thead>\n",
       "  <tbody>\n",
       "    <tr>\n",
       "      <th>0</th>\n",
       "      <td>대구광역시</td>\n",
       "      <td>서구</td>\n",
       "      <td>비산2.3동</td>\n",
       "      <td>2</td>\n",
       "      <td>50</td>\n",
       "      <td>0.00</td>\n",
       "      <td>0.39</td>\n",
       "      <td>0.0</td>\n",
       "      <td>0.00</td>\n",
       "      <td>0.16</td>\n",
       "      <td>0.0</td>\n",
       "      <td>0.45</td>\n",
       "    </tr>\n",
       "    <tr>\n",
       "      <th>1</th>\n",
       "      <td>대구광역시</td>\n",
       "      <td>서구</td>\n",
       "      <td>비산2.3동</td>\n",
       "      <td>2</td>\n",
       "      <td>60</td>\n",
       "      <td>0.00</td>\n",
       "      <td>0.27</td>\n",
       "      <td>0.0</td>\n",
       "      <td>0.00</td>\n",
       "      <td>0.11</td>\n",
       "      <td>0.0</td>\n",
       "      <td>0.61</td>\n",
       "    </tr>\n",
       "    <tr>\n",
       "      <th>2</th>\n",
       "      <td>충청북도</td>\n",
       "      <td>괴산군</td>\n",
       "      <td>사리면</td>\n",
       "      <td>2</td>\n",
       "      <td>50</td>\n",
       "      <td>0.01</td>\n",
       "      <td>0.33</td>\n",
       "      <td>0.0</td>\n",
       "      <td>0.00</td>\n",
       "      <td>0.23</td>\n",
       "      <td>0.0</td>\n",
       "      <td>0.43</td>\n",
       "    </tr>\n",
       "    <tr>\n",
       "      <th>3</th>\n",
       "      <td>충청북도</td>\n",
       "      <td>괴산군</td>\n",
       "      <td>사리면</td>\n",
       "      <td>2</td>\n",
       "      <td>70</td>\n",
       "      <td>0.00</td>\n",
       "      <td>0.04</td>\n",
       "      <td>0.0</td>\n",
       "      <td>0.01</td>\n",
       "      <td>0.58</td>\n",
       "      <td>0.0</td>\n",
       "      <td>0.38</td>\n",
       "    </tr>\n",
       "    <tr>\n",
       "      <th>4</th>\n",
       "      <td>충청북도</td>\n",
       "      <td>괴산군</td>\n",
       "      <td>사리면</td>\n",
       "      <td>2</td>\n",
       "      <td>30</td>\n",
       "      <td>0.00</td>\n",
       "      <td>0.47</td>\n",
       "      <td>0.0</td>\n",
       "      <td>0.00</td>\n",
       "      <td>0.07</td>\n",
       "      <td>0.0</td>\n",
       "      <td>0.46</td>\n",
       "    </tr>\n",
       "  </tbody>\n",
       "</table>\n",
       "</div>"
      ],
      "text/plain": [
       "     시도명 시군구명    행정동명  성별  연령대  대기업급여소득자  일반급여소득자  전문직급여소득자    대표  일반자영업자  \\\n",
       "0  대구광역시   서구  비산2.3동   2   50      0.00     0.39       0.0  0.00    0.16   \n",
       "1  대구광역시   서구  비산2.3동   2   60      0.00     0.27       0.0  0.00    0.11   \n",
       "2   충청북도  괴산군     사리면   2   50      0.01     0.33       0.0  0.00    0.23   \n",
       "3   충청북도  괴산군     사리면   2   70      0.00     0.04       0.0  0.01    0.58   \n",
       "4   충청북도  괴산군     사리면   2   30      0.00     0.47       0.0  0.00    0.07   \n",
       "\n",
       "   전문직자영업자    기타  \n",
       "0      0.0  0.45  \n",
       "1      0.0  0.61  \n",
       "2      0.0  0.43  \n",
       "3      0.0  0.38  \n",
       "4      0.0  0.46  "
      ]
     },
     "execution_count": 79,
     "metadata": {},
     "output_type": "execute_result"
    }
   ],
   "source": [
    "df1.head()"
   ]
  },
  {
   "cell_type": "code",
   "execution_count": 80,
   "metadata": {},
   "outputs": [
    {
     "data": {
      "text/html": [
       "<div>\n",
       "<style scoped>\n",
       "    .dataframe tbody tr th:only-of-type {\n",
       "        vertical-align: middle;\n",
       "    }\n",
       "\n",
       "    .dataframe tbody tr th {\n",
       "        vertical-align: top;\n",
       "    }\n",
       "\n",
       "    .dataframe thead th {\n",
       "        text-align: right;\n",
       "    }\n",
       "</style>\n",
       "<table border=\"1\" class=\"dataframe\">\n",
       "  <thead>\n",
       "    <tr style=\"text-align: right;\">\n",
       "      <th></th>\n",
       "      <th>시도명</th>\n",
       "      <th>시군구명</th>\n",
       "      <th>행정동명</th>\n",
       "      <th>성별</th>\n",
       "      <th>연령대</th>\n",
       "      <th>평균신용점수</th>\n",
       "      <th>상위신용점수자 비율</th>\n",
       "      <th>중위신용점수자 비율</th>\n",
       "      <th>하위신용점수자 비율</th>\n",
       "    </tr>\n",
       "  </thead>\n",
       "  <tbody>\n",
       "    <tr>\n",
       "      <th>0</th>\n",
       "      <td>충청북도</td>\n",
       "      <td>음성군</td>\n",
       "      <td>생극면</td>\n",
       "      <td>2</td>\n",
       "      <td>60</td>\n",
       "      <td>4</td>\n",
       "      <td>0.54</td>\n",
       "      <td>0.38</td>\n",
       "      <td>0.08</td>\n",
       "    </tr>\n",
       "    <tr>\n",
       "      <th>1</th>\n",
       "      <td>충청북도</td>\n",
       "      <td>음성군</td>\n",
       "      <td>생극면</td>\n",
       "      <td>2</td>\n",
       "      <td>30</td>\n",
       "      <td>4</td>\n",
       "      <td>0.22</td>\n",
       "      <td>0.70</td>\n",
       "      <td>0.07</td>\n",
       "    </tr>\n",
       "    <tr>\n",
       "      <th>2</th>\n",
       "      <td>충청북도</td>\n",
       "      <td>음성군</td>\n",
       "      <td>생극면</td>\n",
       "      <td>2</td>\n",
       "      <td>40</td>\n",
       "      <td>5</td>\n",
       "      <td>0.35</td>\n",
       "      <td>0.48</td>\n",
       "      <td>0.17</td>\n",
       "    </tr>\n",
       "    <tr>\n",
       "      <th>3</th>\n",
       "      <td>충청북도</td>\n",
       "      <td>음성군</td>\n",
       "      <td>생극면</td>\n",
       "      <td>2</td>\n",
       "      <td>20</td>\n",
       "      <td>4</td>\n",
       "      <td>0.24</td>\n",
       "      <td>0.73</td>\n",
       "      <td>0.03</td>\n",
       "    </tr>\n",
       "    <tr>\n",
       "      <th>4</th>\n",
       "      <td>충청북도</td>\n",
       "      <td>음성군</td>\n",
       "      <td>생극면</td>\n",
       "      <td>2</td>\n",
       "      <td>70</td>\n",
       "      <td>4</td>\n",
       "      <td>0.55</td>\n",
       "      <td>0.39</td>\n",
       "      <td>0.06</td>\n",
       "    </tr>\n",
       "  </tbody>\n",
       "</table>\n",
       "</div>"
      ],
      "text/plain": [
       "    시도명 시군구명 행정동명  성별  연령대  평균신용점수  상위신용점수자 비율  중위신용점수자 비율  하위신용점수자 비율\n",
       "0  충청북도  음성군  생극면   2   60       4        0.54        0.38        0.08\n",
       "1  충청북도  음성군  생극면   2   30       4        0.22        0.70        0.07\n",
       "2  충청북도  음성군  생극면   2   40       5        0.35        0.48        0.17\n",
       "3  충청북도  음성군  생극면   2   20       4        0.24        0.73        0.03\n",
       "4  충청북도  음성군  생극면   2   70       4        0.55        0.39        0.06"
      ]
     },
     "execution_count": 80,
     "metadata": {},
     "output_type": "execute_result"
    }
   ],
   "source": [
    "df2.head()"
   ]
  },
  {
   "cell_type": "code",
   "execution_count": 85,
   "metadata": {},
   "outputs": [
    {
     "data": {
      "text/html": [
       "<div>\n",
       "<style scoped>\n",
       "    .dataframe tbody tr th:only-of-type {\n",
       "        vertical-align: middle;\n",
       "    }\n",
       "\n",
       "    .dataframe tbody tr th {\n",
       "        vertical-align: top;\n",
       "    }\n",
       "\n",
       "    .dataframe thead th {\n",
       "        text-align: right;\n",
       "    }\n",
       "</style>\n",
       "<table border=\"1\" class=\"dataframe\">\n",
       "  <thead>\n",
       "    <tr style=\"text-align: right;\">\n",
       "      <th></th>\n",
       "      <th></th>\n",
       "      <th></th>\n",
       "      <th>대기업급여소득자</th>\n",
       "      <th>일반급여소득자</th>\n",
       "      <th>전문직급여소득자</th>\n",
       "      <th>대표</th>\n",
       "      <th>일반자영업자</th>\n",
       "      <th>전문직자영업자</th>\n",
       "      <th>기타</th>\n",
       "    </tr>\n",
       "    <tr>\n",
       "      <th>시도명</th>\n",
       "      <th>연령대</th>\n",
       "      <th>성별</th>\n",
       "      <th></th>\n",
       "      <th></th>\n",
       "      <th></th>\n",
       "      <th></th>\n",
       "      <th></th>\n",
       "      <th></th>\n",
       "      <th></th>\n",
       "    </tr>\n",
       "  </thead>\n",
       "  <tbody>\n",
       "    <tr>\n",
       "      <th rowspan=\"5\" valign=\"top\">경기도</th>\n",
       "      <th rowspan=\"2\" valign=\"top\">20</th>\n",
       "      <th>1</th>\n",
       "      <td>0.010</td>\n",
       "      <td>0.340</td>\n",
       "      <td>0.00</td>\n",
       "      <td>0.000000</td>\n",
       "      <td>0.040</td>\n",
       "      <td>0.000000</td>\n",
       "      <td>0.610000</td>\n",
       "    </tr>\n",
       "    <tr>\n",
       "      <th>2</th>\n",
       "      <td>0.015</td>\n",
       "      <td>0.345</td>\n",
       "      <td>0.00</td>\n",
       "      <td>0.000000</td>\n",
       "      <td>0.015</td>\n",
       "      <td>0.000000</td>\n",
       "      <td>0.620000</td>\n",
       "    </tr>\n",
       "    <tr>\n",
       "      <th rowspan=\"2\" valign=\"top\">30</th>\n",
       "      <th>1</th>\n",
       "      <td>0.060</td>\n",
       "      <td>0.590</td>\n",
       "      <td>0.01</td>\n",
       "      <td>0.030000</td>\n",
       "      <td>0.120</td>\n",
       "      <td>0.000000</td>\n",
       "      <td>0.190000</td>\n",
       "    </tr>\n",
       "    <tr>\n",
       "      <th>2</th>\n",
       "      <td>0.040</td>\n",
       "      <td>0.540</td>\n",
       "      <td>0.01</td>\n",
       "      <td>0.006667</td>\n",
       "      <td>0.070</td>\n",
       "      <td>0.003333</td>\n",
       "      <td>0.323333</td>\n",
       "    </tr>\n",
       "    <tr>\n",
       "      <th>40</th>\n",
       "      <th>2</th>\n",
       "      <td>0.035</td>\n",
       "      <td>0.495</td>\n",
       "      <td>0.02</td>\n",
       "      <td>0.015000</td>\n",
       "      <td>0.115</td>\n",
       "      <td>0.010000</td>\n",
       "      <td>0.305000</td>\n",
       "    </tr>\n",
       "  </tbody>\n",
       "</table>\n",
       "</div>"
      ],
      "text/plain": [
       "            대기업급여소득자  일반급여소득자  전문직급여소득자        대표  일반자영업자   전문직자영업자        기타\n",
       "시도명 연령대 성별                                                                   \n",
       "경기도 20  1      0.010    0.340      0.00  0.000000   0.040  0.000000  0.610000\n",
       "        2      0.015    0.345      0.00  0.000000   0.015  0.000000  0.620000\n",
       "    30  1      0.060    0.590      0.01  0.030000   0.120  0.000000  0.190000\n",
       "        2      0.040    0.540      0.01  0.006667   0.070  0.003333  0.323333\n",
       "    40  2      0.035    0.495      0.02  0.015000   0.115  0.010000  0.305000"
      ]
     },
     "execution_count": 85,
     "metadata": {},
     "output_type": "execute_result"
    }
   ],
   "source": [
    "g = df1.groupby([\"시도명\",\"연령대\",\"성별\"]).mean()\n",
    "g.head(5)"
   ]
  },
  {
   "cell_type": "markdown",
   "metadata": {},
   "source": [
    "### 한 지역을 뽑아서 연령/성별에 따른 소득 분포 알아보기"
   ]
  },
  {
   "cell_type": "code",
   "execution_count": 125,
   "metadata": {},
   "outputs": [
    {
     "data": {
      "text/plain": [
       "<matplotlib.axes._subplots.AxesSubplot at 0x229e41e0148>"
      ]
     },
     "execution_count": 125,
     "metadata": {},
     "output_type": "execute_result"
    },
    {
     "data": {
      "image/png": "[encoded data removed]",
      "text/plain": [
       "<Figure size 1080x720 with 1 Axes>"
      ]
     },
     "metadata": {
      "needs_background": "light"
     },
     "output_type": "display_data"
    }
   ],
   "source": [
    "g.loc[\"경기도\"].plot.barh(figsize=(15,10))"
   ]
  },
  {
   "cell_type": "code",
   "execution_count": 129,
   "metadata": {},
   "outputs": [
    {
     "data": {
      "text/plain": [
       "<matplotlib.axes._subplots.AxesSubplot at 0x229e2670508>"
      ]
     },
     "execution_count": 129,
     "metadata": {},
     "output_type": "execute_result"
    },
    {
     "data": {
      "image/png": "[encoded data removed]",
      "text/plain": [
       "<Figure size 1080x432 with 2 Axes>"
      ]
     },
     "metadata": {
      "needs_background": "light"
     },
     "output_type": "display_data"
    }
   ],
   "source": [
    "plt.figure(figsize=(15,6))\n",
    "sns.heatmap(g.loc[\"경기도\"].T, cmap = \"Blues\", annot=True, fmt=\".0f\")"
   ]
  },
  {
   "cell_type": "markdown",
   "metadata": {},
   "source": [
    "### 시도별로 바라본 연령대별 대기업급여소득자"
   ]
  },
  {
   "cell_type": "code",
   "execution_count": 112,
   "metadata": {},
   "outputs": [
    {
     "data": {
      "text/plain": [
       "<seaborn.axisgrid.FacetGrid at 0x229e1ad5088>"
      ]
     },
     "execution_count": 112,
     "metadata": {},
     "output_type": "execute_result"
    },
    {
     "data": {
      "image/png": "[encoded data removed]",
      "text/plain": [
       "<Figure size 1440x1440 with 13 Axes>"
      ]
     },
     "metadata": {
      "needs_background": "light"
     },
     "output_type": "display_data"
    }
   ],
   "source": [
    "sns.catplot(data=df1 ,x=\"연령대\", y=\"대기업급여소득자\", kind=\"bar\", col=\"시도명\", col_wrap=4)"
   ]
  },
  {
   "cell_type": "code",
   "execution_count": 134,
   "metadata": {},
   "outputs": [
    {
     "data": {
      "text/html": [
       "<div>\n",
       "<style scoped>\n",
       "    .dataframe tbody tr th:only-of-type {\n",
       "        vertical-align: middle;\n",
       "    }\n",
       "\n",
       "    .dataframe tbody tr th {\n",
       "        vertical-align: top;\n",
       "    }\n",
       "\n",
       "    .dataframe thead th {\n",
       "        text-align: right;\n",
       "    }\n",
       "</style>\n",
       "<table border=\"1\" class=\"dataframe\">\n",
       "  <thead>\n",
       "    <tr style=\"text-align: right;\">\n",
       "      <th>연령대</th>\n",
       "      <th>20</th>\n",
       "      <th>30</th>\n",
       "      <th>40</th>\n",
       "      <th>50</th>\n",
       "      <th>60</th>\n",
       "      <th>70</th>\n",
       "    </tr>\n",
       "    <tr>\n",
       "      <th>시도명</th>\n",
       "      <th></th>\n",
       "      <th></th>\n",
       "      <th></th>\n",
       "      <th></th>\n",
       "      <th></th>\n",
       "      <th></th>\n",
       "    </tr>\n",
       "  </thead>\n",
       "  <tbody>\n",
       "    <tr>\n",
       "      <th>경기도</th>\n",
       "      <td>1.666667</td>\n",
       "      <td>1.750000</td>\n",
       "      <td>2.000000</td>\n",
       "      <td>2.000000</td>\n",
       "      <td>2.0</td>\n",
       "      <td>1.666667</td>\n",
       "    </tr>\n",
       "    <tr>\n",
       "      <th>경상남도</th>\n",
       "      <td>2.000000</td>\n",
       "      <td>2.000000</td>\n",
       "      <td>2.000000</td>\n",
       "      <td>2.000000</td>\n",
       "      <td>2.0</td>\n",
       "      <td>2.000000</td>\n",
       "    </tr>\n",
       "    <tr>\n",
       "      <th>경상북도</th>\n",
       "      <td>1.000000</td>\n",
       "      <td>1.666667</td>\n",
       "      <td>1.666667</td>\n",
       "      <td>1.333333</td>\n",
       "      <td>1.5</td>\n",
       "      <td>2.000000</td>\n",
       "    </tr>\n",
       "    <tr>\n",
       "      <th>대구광역시</th>\n",
       "      <td>NaN</td>\n",
       "      <td>NaN</td>\n",
       "      <td>NaN</td>\n",
       "      <td>2.000000</td>\n",
       "      <td>2.0</td>\n",
       "      <td>NaN</td>\n",
       "    </tr>\n",
       "    <tr>\n",
       "      <th>대전광역시</th>\n",
       "      <td>1.000000</td>\n",
       "      <td>1.000000</td>\n",
       "      <td>1.000000</td>\n",
       "      <td>1.000000</td>\n",
       "      <td>NaN</td>\n",
       "      <td>NaN</td>\n",
       "    </tr>\n",
       "    <tr>\n",
       "      <th>부산광역시</th>\n",
       "      <td>NaN</td>\n",
       "      <td>NaN</td>\n",
       "      <td>NaN</td>\n",
       "      <td>2.000000</td>\n",
       "      <td>2.0</td>\n",
       "      <td>NaN</td>\n",
       "    </tr>\n",
       "    <tr>\n",
       "      <th>서울특별시</th>\n",
       "      <td>1.000000</td>\n",
       "      <td>1.000000</td>\n",
       "      <td>1.000000</td>\n",
       "      <td>1.000000</td>\n",
       "      <td>1.0</td>\n",
       "      <td>1.000000</td>\n",
       "    </tr>\n",
       "    <tr>\n",
       "      <th>울산광역시</th>\n",
       "      <td>1.000000</td>\n",
       "      <td>1.000000</td>\n",
       "      <td>1.000000</td>\n",
       "      <td>1.000000</td>\n",
       "      <td>1.0</td>\n",
       "      <td>NaN</td>\n",
       "    </tr>\n",
       "    <tr>\n",
       "      <th>인천광역시</th>\n",
       "      <td>NaN</td>\n",
       "      <td>NaN</td>\n",
       "      <td>1.000000</td>\n",
       "      <td>1.000000</td>\n",
       "      <td>NaN</td>\n",
       "      <td>1.000000</td>\n",
       "    </tr>\n",
       "    <tr>\n",
       "      <th>전라남도</th>\n",
       "      <td>1.500000</td>\n",
       "      <td>NaN</td>\n",
       "      <td>NaN</td>\n",
       "      <td>1.500000</td>\n",
       "      <td>2.0</td>\n",
       "      <td>2.000000</td>\n",
       "    </tr>\n",
       "    <tr>\n",
       "      <th>전라북도</th>\n",
       "      <td>2.000000</td>\n",
       "      <td>2.000000</td>\n",
       "      <td>NaN</td>\n",
       "      <td>2.000000</td>\n",
       "      <td>2.0</td>\n",
       "      <td>2.000000</td>\n",
       "    </tr>\n",
       "    <tr>\n",
       "      <th>충청남도</th>\n",
       "      <td>NaN</td>\n",
       "      <td>NaN</td>\n",
       "      <td>2.000000</td>\n",
       "      <td>2.000000</td>\n",
       "      <td>1.0</td>\n",
       "      <td>1.500000</td>\n",
       "    </tr>\n",
       "    <tr>\n",
       "      <th>충청북도</th>\n",
       "      <td>NaN</td>\n",
       "      <td>1.333333</td>\n",
       "      <td>NaN</td>\n",
       "      <td>1.333333</td>\n",
       "      <td>1.5</td>\n",
       "      <td>1.500000</td>\n",
       "    </tr>\n",
       "  </tbody>\n",
       "</table>\n",
       "</div>"
      ],
      "text/plain": [
       "연령대          20        30        40        50   60        70\n",
       "시도명                                                         \n",
       "경기도    1.666667  1.750000  2.000000  2.000000  2.0  1.666667\n",
       "경상남도   2.000000  2.000000  2.000000  2.000000  2.0  2.000000\n",
       "경상북도   1.000000  1.666667  1.666667  1.333333  1.5  2.000000\n",
       "대구광역시       NaN       NaN       NaN  2.000000  2.0       NaN\n",
       "대전광역시  1.000000  1.000000  1.000000  1.000000  NaN       NaN\n",
       "부산광역시       NaN       NaN       NaN  2.000000  2.0       NaN\n",
       "서울특별시  1.000000  1.000000  1.000000  1.000000  1.0  1.000000\n",
       "울산광역시  1.000000  1.000000  1.000000  1.000000  1.0       NaN\n",
       "인천광역시       NaN       NaN  1.000000  1.000000  NaN  1.000000\n",
       "전라남도   1.500000       NaN       NaN  1.500000  2.0  2.000000\n",
       "전라북도   2.000000  2.000000       NaN  2.000000  2.0  2.000000\n",
       "충청남도        NaN       NaN  2.000000  2.000000  1.0  1.500000\n",
       "충청북도        NaN  1.333333       NaN  1.333333  1.5  1.500000"
      ]
     },
     "execution_count": 134,
     "metadata": {},
     "output_type": "execute_result"
    }
   ],
   "source": [
    "t = pd.pivot_table(df1, index=\"시도명\", columns=\"연령대\",values=\"성별\")\n",
    "t"
   ]
  },
  {
   "cell_type": "markdown",
   "metadata": {},
   "source": [
    "### 연령대와 시도명에 따른 성별 분포"
   ]
  },
  {
   "cell_type": "code",
   "execution_count": 119,
   "metadata": {},
   "outputs": [
    {
     "data": {
      "text/plain": [
       "<matplotlib.axes._subplots.AxesSubplot at 0x229e3a92048>"
      ]
     },
     "execution_count": 119,
     "metadata": {},
     "output_type": "execute_result"
    },
    {
     "data": {
      "image/png": "[encoded data removed]",
      "text/plain": [
       "<Figure size 1080x432 with 2 Axes>"
      ]
     },
     "metadata": {
      "needs_background": "light"
     },
     "output_type": "display_data"
    }
   ],
   "source": [
    "plt.figure(figsize=(15,6))\n",
    "sns.heatmap(t, cmap = \"Blues\", annot=True, fmt=\".0f\")"
   ]
  },
  {
   "cell_type": "code",
   "execution_count": 120,
   "metadata": {},
   "outputs": [
    {
     "data": {
      "text/html": [
       "<div>\n",
       "<style scoped>\n",
       "    .dataframe tbody tr th:only-of-type {\n",
       "        vertical-align: middle;\n",
       "    }\n",
       "\n",
       "    .dataframe tbody tr th {\n",
       "        vertical-align: top;\n",
       "    }\n",
       "\n",
       "    .dataframe thead th {\n",
       "        text-align: right;\n",
       "    }\n",
       "</style>\n",
       "<table border=\"1\" class=\"dataframe\">\n",
       "  <thead>\n",
       "    <tr style=\"text-align: right;\">\n",
       "      <th>연령대</th>\n",
       "      <th>20</th>\n",
       "      <th>30</th>\n",
       "      <th>40</th>\n",
       "      <th>50</th>\n",
       "      <th>60</th>\n",
       "      <th>70</th>\n",
       "    </tr>\n",
       "    <tr>\n",
       "      <th>시도명</th>\n",
       "      <th></th>\n",
       "      <th></th>\n",
       "      <th></th>\n",
       "      <th></th>\n",
       "      <th></th>\n",
       "      <th></th>\n",
       "    </tr>\n",
       "  </thead>\n",
       "  <tbody>\n",
       "    <tr>\n",
       "      <th>경기도</th>\n",
       "      <td>0.013333</td>\n",
       "      <td>0.045000</td>\n",
       "      <td>0.035</td>\n",
       "      <td>0.010000</td>\n",
       "      <td>0.003333</td>\n",
       "      <td>0.0</td>\n",
       "    </tr>\n",
       "    <tr>\n",
       "      <th>경상남도</th>\n",
       "      <td>0.000000</td>\n",
       "      <td>0.010000</td>\n",
       "      <td>0.000</td>\n",
       "      <td>0.000000</td>\n",
       "      <td>0.000000</td>\n",
       "      <td>0.0</td>\n",
       "    </tr>\n",
       "    <tr>\n",
       "      <th>경상북도</th>\n",
       "      <td>0.000000</td>\n",
       "      <td>0.003333</td>\n",
       "      <td>0.010</td>\n",
       "      <td>0.006667</td>\n",
       "      <td>0.005000</td>\n",
       "      <td>0.0</td>\n",
       "    </tr>\n",
       "    <tr>\n",
       "      <th>대구광역시</th>\n",
       "      <td>NaN</td>\n",
       "      <td>NaN</td>\n",
       "      <td>NaN</td>\n",
       "      <td>0.000000</td>\n",
       "      <td>0.000000</td>\n",
       "      <td>NaN</td>\n",
       "    </tr>\n",
       "    <tr>\n",
       "      <th>대전광역시</th>\n",
       "      <td>0.010000</td>\n",
       "      <td>0.040000</td>\n",
       "      <td>0.010</td>\n",
       "      <td>0.010000</td>\n",
       "      <td>NaN</td>\n",
       "      <td>NaN</td>\n",
       "    </tr>\n",
       "    <tr>\n",
       "      <th>부산광역시</th>\n",
       "      <td>NaN</td>\n",
       "      <td>NaN</td>\n",
       "      <td>NaN</td>\n",
       "      <td>0.000000</td>\n",
       "      <td>0.000000</td>\n",
       "      <td>NaN</td>\n",
       "    </tr>\n",
       "    <tr>\n",
       "      <th>서울특별시</th>\n",
       "      <td>0.020000</td>\n",
       "      <td>0.090000</td>\n",
       "      <td>0.060</td>\n",
       "      <td>0.030000</td>\n",
       "      <td>0.010000</td>\n",
       "      <td>0.0</td>\n",
       "    </tr>\n",
       "    <tr>\n",
       "      <th>울산광역시</th>\n",
       "      <td>0.020000</td>\n",
       "      <td>0.130000</td>\n",
       "      <td>0.165</td>\n",
       "      <td>0.330000</td>\n",
       "      <td>0.150000</td>\n",
       "      <td>NaN</td>\n",
       "    </tr>\n",
       "    <tr>\n",
       "      <th>인천광역시</th>\n",
       "      <td>NaN</td>\n",
       "      <td>NaN</td>\n",
       "      <td>0.040</td>\n",
       "      <td>0.035000</td>\n",
       "      <td>NaN</td>\n",
       "      <td>0.0</td>\n",
       "    </tr>\n",
       "    <tr>\n",
       "      <th>전라남도</th>\n",
       "      <td>0.010000</td>\n",
       "      <td>NaN</td>\n",
       "      <td>NaN</td>\n",
       "      <td>0.000000</td>\n",
       "      <td>0.000000</td>\n",
       "      <td>0.0</td>\n",
       "    </tr>\n",
       "    <tr>\n",
       "      <th>전라북도</th>\n",
       "      <td>0.005000</td>\n",
       "      <td>0.010000</td>\n",
       "      <td>NaN</td>\n",
       "      <td>0.005000</td>\n",
       "      <td>0.005000</td>\n",
       "      <td>0.0</td>\n",
       "    </tr>\n",
       "    <tr>\n",
       "      <th>충청남도</th>\n",
       "      <td>NaN</td>\n",
       "      <td>NaN</td>\n",
       "      <td>0.000</td>\n",
       "      <td>0.000000</td>\n",
       "      <td>0.010000</td>\n",
       "      <td>0.0</td>\n",
       "    </tr>\n",
       "    <tr>\n",
       "      <th>충청북도</th>\n",
       "      <td>NaN</td>\n",
       "      <td>0.053333</td>\n",
       "      <td>NaN</td>\n",
       "      <td>0.030000</td>\n",
       "      <td>0.010000</td>\n",
       "      <td>0.0</td>\n",
       "    </tr>\n",
       "  </tbody>\n",
       "</table>\n",
       "</div>"
      ],
      "text/plain": [
       "연령대          20        30     40        50        60   70\n",
       "시도명                                                      \n",
       "경기도    0.013333  0.045000  0.035  0.010000  0.003333  0.0\n",
       "경상남도   0.000000  0.010000  0.000  0.000000  0.000000  0.0\n",
       "경상북도   0.000000  0.003333  0.010  0.006667  0.005000  0.0\n",
       "대구광역시       NaN       NaN    NaN  0.000000  0.000000  NaN\n",
       "대전광역시  0.010000  0.040000  0.010  0.010000       NaN  NaN\n",
       "부산광역시       NaN       NaN    NaN  0.000000  0.000000  NaN\n",
       "서울특별시  0.020000  0.090000  0.060  0.030000  0.010000  0.0\n",
       "울산광역시  0.020000  0.130000  0.165  0.330000  0.150000  NaN\n",
       "인천광역시       NaN       NaN  0.040  0.035000       NaN  0.0\n",
       "전라남도   0.010000       NaN    NaN  0.000000  0.000000  0.0\n",
       "전라북도   0.005000  0.010000    NaN  0.005000  0.005000  0.0\n",
       "충청남도        NaN       NaN  0.000  0.000000  0.010000  0.0\n",
       "충청북도        NaN  0.053333    NaN  0.030000  0.010000  0.0"
      ]
     },
     "execution_count": 120,
     "metadata": {},
     "output_type": "execute_result"
    }
   ],
   "source": [
    "h = pd.pivot_table(df1, index=\"시도명\", columns=\"연령대\",values=\"대기업급여소득자\")\n",
    "h"
   ]
  },
  {
   "cell_type": "markdown",
   "metadata": {},
   "source": [
    "### 연령대와 시도명에 따른 대기업소득자의 분포"
   ]
  },
  {
   "cell_type": "code",
   "execution_count": 132,
   "metadata": {},
   "outputs": [
    {
     "data": {
      "text/plain": [
       "<matplotlib.axes._subplots.AxesSubplot at 0x229e60fd0c8>"
      ]
     },
     "execution_count": 132,
     "metadata": {},
     "output_type": "execute_result"
    },
    {
     "data": {
      "image/png": "[encoded data removed]",
      "text/plain": [
       "<Figure size 1080x432 with 2 Axes>"
      ]
     },
     "metadata": {
      "needs_background": "light"
     },
     "output_type": "display_data"
    }
   ],
   "source": [
    "plt.figure(figsize=(15,6))\n",
    "sns.heatmap(h, cmap = \"Blues\")"
   ]
  },
  {
   "cell_type": "markdown",
   "metadata": {},
   "source": [
    "### 연령대와 시도별에 따른 전문직급여소득자 분포"
   ]
  },
  {
   "cell_type": "code",
   "execution_count": 131,
   "metadata": {},
   "outputs": [
    {
     "data": {
      "text/plain": [
       "<matplotlib.axes._subplots.AxesSubplot at 0x229e60f8e88>"
      ]
     },
     "execution_count": 131,
     "metadata": {},
     "output_type": "execute_result"
    },
    {
     "data": {
      "image/png": "[encoded data removed]",
      "text/plain": [
       "<Figure size 1080x432 with 2 Axes>"
      ]
     },
     "metadata": {
      "needs_background": "light"
     },
     "output_type": "display_data"
    }
   ],
   "source": [
    "h2 = pd.pivot_table(df1, index=\"시도명\", columns=\"연령대\",values=\"전문직급여소득자\")\n",
    "plt.figure(figsize=(15,6))\n",
    "sns.heatmap(h2, cmap = \"BuPu\")"
   ]
  },
  {
   "cell_type": "code",
   "execution_count": 127,
   "metadata": {},
   "outputs": [
    {
     "data": {
      "text/plain": [
       "<matplotlib.axes._subplots.AxesSubplot at 0x229e45099c8>"
      ]
     },
     "execution_count": 127,
     "metadata": {},
     "output_type": "execute_result"
    },
    {
     "data": {
      "image/png": "[encoded data removed]",
      "text/plain": [
       "<Figure size 1080x216 with 1 Axes>"
      ]
     },
     "metadata": {
      "needs_background": "light"
     },
     "output_type": "display_data"
    }
   ],
   "source": [
    "plt.figure(figsize=(15,3))\n",
    "sns.barplot(data=df1, x=\"시도명\", y=\"전문직자영업자\")"
   ]
  },
  {
   "cell_type": "code",
   "execution_count": 136,
   "metadata": {},
   "outputs": [
    {
     "data": {
      "text/plain": [
       "<matplotlib.axes._subplots.AxesSubplot at 0x229e6571288>"
      ]
     },
     "execution_count": 136,
     "metadata": {},
     "output_type": "execute_result"
    },
    {
     "data": {
      "image/png": "[encoded data removed]",
      "text/plain": [
       "<Figure size 720x216 with 1 Axes>"
      ]
     },
     "metadata": {
      "needs_background": "light"
     },
     "output_type": "display_data"
    }
   ],
   "source": [
    "plt.figure(figsize=(10,3))\n",
    "sns.barplot(data=df1, x=\"시도명\", y=\"연령대\")"
   ]
  },
  {
   "cell_type": "code",
   "execution_count": 157,
   "metadata": {},
   "outputs": [
    {
     "data": {
      "text/plain": [
       "<seaborn.axisgrid.FacetGrid at 0x229e9d812c8>"
      ]
     },
     "execution_count": 157,
     "metadata": {},
     "output_type": "execute_result"
    },
    {
     "data": {
      "text/plain": [
       "<Figure size 1080x576 with 0 Axes>"
      ]
     },
     "metadata": {},
     "output_type": "display_data"
    },
    {
     "data": {
      "image/png": "[encoded data removed]",
      "text/plain": [
       "<Figure size 360x720 with 2 Axes>"
      ]
     },
     "metadata": {
      "needs_background": "light"
     },
     "output_type": "display_data"
    }
   ],
   "source": [
    "plt.figure(figsize=(15,8))\n",
    "sns.catplot(data=df1, x=\"시도명\", y=\"연령대\", kind=\"bar\", col=\"성별\", col_wrap=1)"
   ]
  },
  {
   "cell_type": "markdown",
   "metadata": {},
   "source": [
    "# 이제 (6)번 csv 파일로 넘어가자"
   ]
  },
  {
   "cell_type": "code",
   "execution_count": 166,
   "metadata": {},
   "outputs": [
    {
     "data": {
      "text/html": [
       "<div>\n",
       "<style scoped>\n",
       "    .dataframe tbody tr th:only-of-type {\n",
       "        vertical-align: middle;\n",
       "    }\n",
       "\n",
       "    .dataframe tbody tr th {\n",
       "        vertical-align: top;\n",
       "    }\n",
       "\n",
       "    .dataframe thead th {\n",
       "        text-align: right;\n",
       "    }\n",
       "</style>\n",
       "<table border=\"1\" class=\"dataframe\">\n",
       "  <thead>\n",
       "    <tr style=\"text-align: right;\">\n",
       "      <th></th>\n",
       "      <th>시도명</th>\n",
       "      <th>시군구명</th>\n",
       "      <th>행정동명</th>\n",
       "      <th>성별</th>\n",
       "      <th>연령대</th>\n",
       "      <th>평균신용점수</th>\n",
       "      <th>상위신용점수자 비율</th>\n",
       "      <th>중위신용점수자 비율</th>\n",
       "      <th>하위신용점수자 비율</th>\n",
       "    </tr>\n",
       "  </thead>\n",
       "  <tbody>\n",
       "    <tr>\n",
       "      <th>0</th>\n",
       "      <td>충청북도</td>\n",
       "      <td>음성군</td>\n",
       "      <td>생극면</td>\n",
       "      <td>2</td>\n",
       "      <td>60</td>\n",
       "      <td>4</td>\n",
       "      <td>0.54</td>\n",
       "      <td>0.38</td>\n",
       "      <td>0.08</td>\n",
       "    </tr>\n",
       "    <tr>\n",
       "      <th>1</th>\n",
       "      <td>충청북도</td>\n",
       "      <td>음성군</td>\n",
       "      <td>생극면</td>\n",
       "      <td>2</td>\n",
       "      <td>30</td>\n",
       "      <td>4</td>\n",
       "      <td>0.22</td>\n",
       "      <td>0.70</td>\n",
       "      <td>0.07</td>\n",
       "    </tr>\n",
       "    <tr>\n",
       "      <th>2</th>\n",
       "      <td>충청북도</td>\n",
       "      <td>음성군</td>\n",
       "      <td>생극면</td>\n",
       "      <td>2</td>\n",
       "      <td>40</td>\n",
       "      <td>5</td>\n",
       "      <td>0.35</td>\n",
       "      <td>0.48</td>\n",
       "      <td>0.17</td>\n",
       "    </tr>\n",
       "    <tr>\n",
       "      <th>3</th>\n",
       "      <td>충청북도</td>\n",
       "      <td>음성군</td>\n",
       "      <td>생극면</td>\n",
       "      <td>2</td>\n",
       "      <td>20</td>\n",
       "      <td>4</td>\n",
       "      <td>0.24</td>\n",
       "      <td>0.73</td>\n",
       "      <td>0.03</td>\n",
       "    </tr>\n",
       "    <tr>\n",
       "      <th>4</th>\n",
       "      <td>충청북도</td>\n",
       "      <td>음성군</td>\n",
       "      <td>생극면</td>\n",
       "      <td>2</td>\n",
       "      <td>70</td>\n",
       "      <td>4</td>\n",
       "      <td>0.55</td>\n",
       "      <td>0.39</td>\n",
       "      <td>0.06</td>\n",
       "    </tr>\n",
       "  </tbody>\n",
       "</table>\n",
       "</div>"
      ],
      "text/plain": [
       "    시도명 시군구명 행정동명  성별  연령대  평균신용점수  상위신용점수자 비율  중위신용점수자 비율  하위신용점수자 비율\n",
       "0  충청북도  음성군  생극면   2   60       4        0.54        0.38        0.08\n",
       "1  충청북도  음성군  생극면   2   30       4        0.22        0.70        0.07\n",
       "2  충청북도  음성군  생극면   2   40       5        0.35        0.48        0.17\n",
       "3  충청북도  음성군  생극면   2   20       4        0.24        0.73        0.03\n",
       "4  충청북도  음성군  생극면   2   70       4        0.55        0.39        0.06"
      ]
     },
     "execution_count": 166,
     "metadata": {},
     "output_type": "execute_result"
    }
   ],
   "source": [
    "df2.head()"
   ]
  },
  {
   "cell_type": "code",
   "execution_count": 167,
   "metadata": {},
   "outputs": [
    {
     "data": {
      "text/html": [
       "<div>\n",
       "<style scoped>\n",
       "    .dataframe tbody tr th:only-of-type {\n",
       "        vertical-align: middle;\n",
       "    }\n",
       "\n",
       "    .dataframe tbody tr th {\n",
       "        vertical-align: top;\n",
       "    }\n",
       "\n",
       "    .dataframe thead th {\n",
       "        text-align: right;\n",
       "    }\n",
       "</style>\n",
       "<table border=\"1\" class=\"dataframe\">\n",
       "  <thead>\n",
       "    <tr style=\"text-align: right;\">\n",
       "      <th></th>\n",
       "      <th>성별</th>\n",
       "      <th>연령대</th>\n",
       "      <th>평균신용점수</th>\n",
       "      <th>상위신용점수자 비율</th>\n",
       "      <th>중위신용점수자 비율</th>\n",
       "      <th>하위신용점수자 비율</th>\n",
       "    </tr>\n",
       "  </thead>\n",
       "  <tbody>\n",
       "    <tr>\n",
       "      <th>count</th>\n",
       "      <td>100.000000</td>\n",
       "      <td>100.000000</td>\n",
       "      <td>100.000000</td>\n",
       "      <td>100.000000</td>\n",
       "      <td>100.000000</td>\n",
       "      <td>100.000000</td>\n",
       "    </tr>\n",
       "    <tr>\n",
       "      <th>mean</th>\n",
       "      <td>1.580000</td>\n",
       "      <td>48.000000</td>\n",
       "      <td>3.570000</td>\n",
       "      <td>0.523400</td>\n",
       "      <td>0.395400</td>\n",
       "      <td>0.079900</td>\n",
       "    </tr>\n",
       "    <tr>\n",
       "      <th>std</th>\n",
       "      <td>0.496045</td>\n",
       "      <td>16.757329</td>\n",
       "      <td>0.590412</td>\n",
       "      <td>0.149283</td>\n",
       "      <td>0.144127</td>\n",
       "      <td>0.049655</td>\n",
       "    </tr>\n",
       "    <tr>\n",
       "      <th>min</th>\n",
       "      <td>1.000000</td>\n",
       "      <td>20.000000</td>\n",
       "      <td>2.000000</td>\n",
       "      <td>0.190000</td>\n",
       "      <td>0.130000</td>\n",
       "      <td>0.010000</td>\n",
       "    </tr>\n",
       "    <tr>\n",
       "      <th>25%</th>\n",
       "      <td>1.000000</td>\n",
       "      <td>37.500000</td>\n",
       "      <td>3.000000</td>\n",
       "      <td>0.407500</td>\n",
       "      <td>0.287500</td>\n",
       "      <td>0.040000</td>\n",
       "    </tr>\n",
       "    <tr>\n",
       "      <th>50%</th>\n",
       "      <td>2.000000</td>\n",
       "      <td>50.000000</td>\n",
       "      <td>4.000000</td>\n",
       "      <td>0.550000</td>\n",
       "      <td>0.370000</td>\n",
       "      <td>0.070000</td>\n",
       "    </tr>\n",
       "    <tr>\n",
       "      <th>75%</th>\n",
       "      <td>2.000000</td>\n",
       "      <td>60.000000</td>\n",
       "      <td>4.000000</td>\n",
       "      <td>0.632500</td>\n",
       "      <td>0.462500</td>\n",
       "      <td>0.110000</td>\n",
       "    </tr>\n",
       "    <tr>\n",
       "      <th>max</th>\n",
       "      <td>2.000000</td>\n",
       "      <td>70.000000</td>\n",
       "      <td>5.000000</td>\n",
       "      <td>0.840000</td>\n",
       "      <td>0.750000</td>\n",
       "      <td>0.240000</td>\n",
       "    </tr>\n",
       "  </tbody>\n",
       "</table>\n",
       "</div>"
      ],
      "text/plain": [
       "               성별         연령대      평균신용점수  상위신용점수자 비율  중위신용점수자 비율  하위신용점수자 비율\n",
       "count  100.000000  100.000000  100.000000  100.000000  100.000000  100.000000\n",
       "mean     1.580000   48.000000    3.570000    0.523400    0.395400    0.079900\n",
       "std      0.496045   16.757329    0.590412    0.149283    0.144127    0.049655\n",
       "min      1.000000   20.000000    2.000000    0.190000    0.130000    0.010000\n",
       "25%      1.000000   37.500000    3.000000    0.407500    0.287500    0.040000\n",
       "50%      2.000000   50.000000    4.000000    0.550000    0.370000    0.070000\n",
       "75%      2.000000   60.000000    4.000000    0.632500    0.462500    0.110000\n",
       "max      2.000000   70.000000    5.000000    0.840000    0.750000    0.240000"
      ]
     },
     "execution_count": 167,
     "metadata": {},
     "output_type": "execute_result"
    }
   ],
   "source": [
    "df2.describe()"
   ]
  },
  {
   "cell_type": "code",
   "execution_count": 175,
   "metadata": {},
   "outputs": [
    {
     "data": {
      "text/plain": [
       "<seaborn.axisgrid.FacetGrid at 0x229ea609248>"
      ]
     },
     "execution_count": 175,
     "metadata": {},
     "output_type": "execute_result"
    },
    {
     "data": {
      "image/png": "[encoded data removed]",
      "text/plain": [
       "<Figure size 720x1080 with 6 Axes>"
      ]
     },
     "metadata": {
      "needs_background": "light"
     },
     "output_type": "display_data"
    }
   ],
   "source": [
    "chart1 = sns.catplot(\n",
    "    data=df2[df2['평균신용점수'].isin([3, 4])],\n",
    "    x='시도명',\n",
    "    kind='count',\n",
    "    palette='pastel',\n",
    "    col='연령대',\n",
    "    aspect=1,\n",
    "    col_wrap=2\n",
    ")\n",
    "chart1.set_xticklabels(rotation=65, horizontalalignment='right')"
   ]
  },
  {
   "cell_type": "code",
   "execution_count": 178,
   "metadata": {},
   "outputs": [
    {
     "data": {
      "text/html": [
       "<div>\n",
       "<style scoped>\n",
       "    .dataframe tbody tr th:only-of-type {\n",
       "        vertical-align: middle;\n",
       "    }\n",
       "\n",
       "    .dataframe tbody tr th {\n",
       "        vertical-align: top;\n",
       "    }\n",
       "\n",
       "    .dataframe thead th {\n",
       "        text-align: right;\n",
       "    }\n",
       "</style>\n",
       "<table border=\"1\" class=\"dataframe\">\n",
       "  <thead>\n",
       "    <tr style=\"text-align: right;\">\n",
       "      <th></th>\n",
       "      <th>시도명</th>\n",
       "      <th>시군구명</th>\n",
       "      <th>행정동명</th>\n",
       "      <th>성별</th>\n",
       "      <th>연령대</th>\n",
       "      <th>평균신용점수</th>\n",
       "      <th>상위신용점수자 비율</th>\n",
       "      <th>중위신용점수자 비율</th>\n",
       "      <th>하위신용점수자 비율</th>\n",
       "    </tr>\n",
       "  </thead>\n",
       "  <tbody>\n",
       "    <tr>\n",
       "      <th>0</th>\n",
       "      <td>충청북도</td>\n",
       "      <td>음성군</td>\n",
       "      <td>생극면</td>\n",
       "      <td>2</td>\n",
       "      <td>60</td>\n",
       "      <td>4</td>\n",
       "      <td>0.54</td>\n",
       "      <td>0.38</td>\n",
       "      <td>0.08</td>\n",
       "    </tr>\n",
       "    <tr>\n",
       "      <th>1</th>\n",
       "      <td>충청북도</td>\n",
       "      <td>음성군</td>\n",
       "      <td>생극면</td>\n",
       "      <td>2</td>\n",
       "      <td>30</td>\n",
       "      <td>4</td>\n",
       "      <td>0.22</td>\n",
       "      <td>0.70</td>\n",
       "      <td>0.07</td>\n",
       "    </tr>\n",
       "  </tbody>\n",
       "</table>\n",
       "</div>"
      ],
      "text/plain": [
       "    시도명 시군구명 행정동명  성별  연령대  평균신용점수  상위신용점수자 비율  중위신용점수자 비율  하위신용점수자 비율\n",
       "0  충청북도  음성군  생극면   2   60       4        0.54        0.38        0.08\n",
       "1  충청북도  음성군  생극면   2   30       4        0.22        0.70        0.07"
      ]
     },
     "execution_count": 178,
     "metadata": {},
     "output_type": "execute_result"
    }
   ],
   "source": [
    "df2.head(2)"
   ]
  },
  {
   "cell_type": "code",
   "execution_count": 182,
   "metadata": {},
   "outputs": [
    {
     "data": {
      "text/plain": [
       "시도명  연령대\n",
       "경기도  20     3\n",
       "     30     3\n",
       "     40     4\n",
       "     50     4\n",
       "     60     2\n",
       "Name: 평균신용점수, dtype: int64"
      ]
     },
     "execution_count": 182,
     "metadata": {},
     "output_type": "execute_result"
    }
   ],
   "source": [
    "set1 = df2.groupby([\"시도명\",\"연령대\"])[\"평균신용점수\"].count()\n",
    "set1.head(5)"
   ]
  },
  {
   "cell_type": "code",
   "execution_count": 190,
   "metadata": {},
   "outputs": [
    {
     "data": {
      "text/plain": [
       "<matplotlib.axes._subplots.AxesSubplot at 0x229ecc63bc8>"
      ]
     },
     "execution_count": 190,
     "metadata": {},
     "output_type": "execute_result"
    },
    {
     "data": {
      "image/png": "[encoded data removed]",
      "text/plain": [
       "<Figure size 720x360 with 1 Axes>"
      ]
     },
     "metadata": {
      "needs_background": "light"
     },
     "output_type": "display_data"
    }
   ],
   "source": [
    "set1.plot(kind='bar',figsize=(10,5))"
   ]
  },
  {
   "cell_type": "code",
   "execution_count": 196,
   "metadata": {},
   "outputs": [
    {
     "data": {
      "text/plain": [
       "<matplotlib.axes._subplots.AxesSubplot at 0x229ea523408>"
      ]
     },
     "execution_count": 196,
     "metadata": {},
     "output_type": "execute_result"
    },
    {
     "data": {
      "image/png": "[encoded data removed]",
      "text/plain": [
       "<Figure size 720x216 with 1 Axes>"
      ]
     },
     "metadata": {
      "needs_background": "light"
     },
     "output_type": "display_data"
    }
   ],
   "source": [
    "plt.figure(figsize=(10,3))\n",
    "sns.barplot(data=df2, x=\"연령대\", y=\"평균신용점수\")"
   ]
  },
  {
   "cell_type": "code",
   "execution_count": 215,
   "metadata": {},
   "outputs": [
    {
     "data": {
      "text/html": [
       "<div>\n",
       "<style scoped>\n",
       "    .dataframe tbody tr th:only-of-type {\n",
       "        vertical-align: middle;\n",
       "    }\n",
       "\n",
       "    .dataframe tbody tr th {\n",
       "        vertical-align: top;\n",
       "    }\n",
       "\n",
       "    .dataframe thead th {\n",
       "        text-align: right;\n",
       "    }\n",
       "</style>\n",
       "<table border=\"1\" class=\"dataframe\">\n",
       "  <thead>\n",
       "    <tr style=\"text-align: right;\">\n",
       "      <th></th>\n",
       "      <th></th>\n",
       "      <th></th>\n",
       "      <th>상위신용점수자 비율</th>\n",
       "      <th>중위신용점수자 비율</th>\n",
       "      <th>하위신용점수자 비율</th>\n",
       "    </tr>\n",
       "    <tr>\n",
       "      <th>시도명</th>\n",
       "      <th>연령대</th>\n",
       "      <th>평균신용점수</th>\n",
       "      <th></th>\n",
       "      <th></th>\n",
       "      <th></th>\n",
       "    </tr>\n",
       "  </thead>\n",
       "  <tbody>\n",
       "    <tr>\n",
       "      <th rowspan=\"5\" valign=\"top\">경기도</th>\n",
       "      <th>20</th>\n",
       "      <th>4</th>\n",
       "      <td>0.326667</td>\n",
       "      <td>0.633333</td>\n",
       "      <td>0.033333</td>\n",
       "    </tr>\n",
       "    <tr>\n",
       "      <th>30</th>\n",
       "      <th>3</th>\n",
       "      <td>0.636667</td>\n",
       "      <td>0.296667</td>\n",
       "      <td>0.066667</td>\n",
       "    </tr>\n",
       "    <tr>\n",
       "      <th rowspan=\"2\" valign=\"top\">40</th>\n",
       "      <th>3</th>\n",
       "      <td>0.653333</td>\n",
       "      <td>0.253333</td>\n",
       "      <td>0.096667</td>\n",
       "    </tr>\n",
       "    <tr>\n",
       "      <th>4</th>\n",
       "      <td>0.380000</td>\n",
       "      <td>0.410000</td>\n",
       "      <td>0.210000</td>\n",
       "    </tr>\n",
       "    <tr>\n",
       "      <th>50</th>\n",
       "      <th>2</th>\n",
       "      <td>0.790000</td>\n",
       "      <td>0.140000</td>\n",
       "      <td>0.060000</td>\n",
       "    </tr>\n",
       "  </tbody>\n",
       "</table>\n",
       "</div>"
      ],
      "text/plain": [
       "                상위신용점수자 비율  중위신용점수자 비율  하위신용점수자 비율\n",
       "시도명 연령대 평균신용점수                                    \n",
       "경기도 20  4         0.326667    0.633333    0.033333\n",
       "    30  3         0.636667    0.296667    0.066667\n",
       "    40  3         0.653333    0.253333    0.096667\n",
       "        4         0.380000    0.410000    0.210000\n",
       "    50  2         0.790000    0.140000    0.060000"
      ]
     },
     "execution_count": 215,
     "metadata": {},
     "output_type": "execute_result"
    }
   ],
   "source": [
    "x = df2.groupby([\"시도명\",\"연령대\",\"평균신용점수\"]).mean().drop([\"성별\"],axis=1)\n",
    "\n",
    "x.head(5)"
   ]
  },
  {
   "cell_type": "code",
   "execution_count": 216,
   "metadata": {},
   "outputs": [
    {
     "data": {
      "text/plain": [
       "<matplotlib.axes._subplots.AxesSubplot at 0x229ea30b3c8>"
      ]
     },
     "execution_count": 216,
     "metadata": {},
     "output_type": "execute_result"
    },
    {
     "data": {
      "image/png": "[encoded data removed]",
      "text/plain": [
       "<Figure size 1080x720 with 1 Axes>"
      ]
     },
     "metadata": {
      "needs_background": "light"
     },
     "output_type": "display_data"
    }
   ],
   "source": [
    "x.loc[\"경기도\"].plot.barh(figsize=(15,10))"
   ]
  },
  {
   "cell_type": "code",
   "execution_count": 220,
   "metadata": {},
   "outputs": [
    {
     "data": {
      "text/plain": [
       "<matplotlib.legend.Legend at 0x229ec193a88>"
      ]
     },
     "execution_count": 220,
     "metadata": {},
     "output_type": "execute_result"
    },
    {
     "data": {
      "image/png": "[encoded data removed]",
      "text/plain": [
       "<Figure size 432x288 with 1 Axes>"
      ]
     },
     "metadata": {
      "needs_background": "light"
     },
     "output_type": "display_data"
    }
   ],
   "source": [
    "x.loc[\"경기도\"].plot.barh(stacked=True, colormap=\"summer\")\n",
    "plt.legend(bbox_to_anchor=(1.02, 1), loc=2, borderaxespad=0.)"
   ]
  },
  {
   "cell_type": "code",
   "execution_count": 230,
   "metadata": {},
   "outputs": [
    {
     "data": {
      "text/html": [
       "<div>\n",
       "<style scoped>\n",
       "    .dataframe tbody tr th:only-of-type {\n",
       "        vertical-align: middle;\n",
       "    }\n",
       "\n",
       "    .dataframe tbody tr th {\n",
       "        vertical-align: top;\n",
       "    }\n",
       "\n",
       "    .dataframe thead th {\n",
       "        text-align: right;\n",
       "    }\n",
       "</style>\n",
       "<table border=\"1\" class=\"dataframe\">\n",
       "  <thead>\n",
       "    <tr style=\"text-align: right;\">\n",
       "      <th></th>\n",
       "      <th></th>\n",
       "      <th></th>\n",
       "      <th>상위신용점수자 비율</th>\n",
       "      <th>중위신용점수자 비율</th>\n",
       "      <th>하위신용점수자 비율</th>\n",
       "    </tr>\n",
       "    <tr>\n",
       "      <th>시도명</th>\n",
       "      <th>연령대</th>\n",
       "      <th>평균신용점수</th>\n",
       "      <th></th>\n",
       "      <th></th>\n",
       "      <th></th>\n",
       "    </tr>\n",
       "  </thead>\n",
       "  <tbody>\n",
       "    <tr>\n",
       "      <th rowspan=\"2\" valign=\"top\">경기도</th>\n",
       "      <th>20</th>\n",
       "      <th>4</th>\n",
       "      <td>0.326667</td>\n",
       "      <td>0.633333</td>\n",
       "      <td>0.033333</td>\n",
       "    </tr>\n",
       "    <tr>\n",
       "      <th>30</th>\n",
       "      <th>3</th>\n",
       "      <td>0.636667</td>\n",
       "      <td>0.296667</td>\n",
       "      <td>0.066667</td>\n",
       "    </tr>\n",
       "  </tbody>\n",
       "</table>\n",
       "</div>"
      ],
      "text/plain": [
       "                상위신용점수자 비율  중위신용점수자 비율  하위신용점수자 비율\n",
       "시도명 연령대 평균신용점수                                    \n",
       "경기도 20  4         0.326667    0.633333    0.033333\n",
       "    30  3         0.636667    0.296667    0.066667"
      ]
     },
     "execution_count": 230,
     "metadata": {},
     "output_type": "execute_result"
    }
   ],
   "source": [
    "x.head(2)"
   ]
  },
  {
   "cell_type": "code",
   "execution_count": 244,
   "metadata": {},
   "outputs": [
    {
     "data": {
      "text/plain": [
       "상위신용점수자 비율    0.54\n",
       "중위신용점수자 비율    0.38\n",
       "하위신용점수자 비율    0.08\n",
       "Name: 0, dtype: object"
      ]
     },
     "execution_count": 244,
     "metadata": {},
     "output_type": "execute_result"
    }
   ],
   "source": [
    "tt = df2.loc[0,[\"상위신용점수자 비율\", \"중위신용점수자 비율\", \"하위신용점수자 비율\"]]\n",
    "tt"
   ]
  },
  {
   "cell_type": "code",
   "execution_count": 249,
   "metadata": {},
   "outputs": [
    {
     "data": {
      "image/png": "[encoded data removed]",
      "text/plain": [
       "<Figure size 432x288 with 1 Axes>"
      ]
     },
     "metadata": {},
     "output_type": "display_data"
    }
   ],
   "source": [
    "labels = ('상위신용점수자 비율', '중위신용점수자 비율', '하위신용점수자비율')\n",
    "plt.pie(labels=labels, x = tt)\n",
    "plt.show()"
   ]
  },
  {
   "cell_type": "markdown",
   "metadata": {},
   "source": [
    "## 경기도 20대 신용점수 4 인 사람들의 분포"
   ]
  },
  {
   "cell_type": "code",
   "execution_count": 263,
   "metadata": {},
   "outputs": [
    {
     "data": {
      "image/png": "[encoded data removed]",
      "text/plain": [
       "<Figure size 432x432 with 1 Axes>"
      ]
     },
     "metadata": {},
     "output_type": "display_data"
    }
   ],
   "source": [
    "labels =  ('상위신용점수자 비율', '중위신용점수자 비율', '하위신용점수자비율') ## 라벨\n",
    "xs = tt ## 값들, pie 차트에서 알아서 100% 기준으로 변경해서 정리해줌 \n",
    "## 그림을 그립시다. \n",
    "plt.figure(figsize=(6, 6))\n",
    "## plt.pie로 생기는 요소를 다음처럼 리턴하여 값을 저장해두고 \n",
    "patches, texts, autotexts = plt.pie(\n",
    "    labels=labels, ## label \n",
    "    labeldistance=1.1,## label이 파이로부터 얼마나 떨어지는가, 1일경우 딱 붙어있음. \n",
    "    x = tt, ## 값\n",
    "    explode=(0.1, 0.1, 0), ##pie가 튀어나오는지 정해줌  \n",
    "    startangle=90,## 어디에서 시작할지, 정해줌  \n",
    "    shadow=False, ##그림자 \n",
    "    counterclock=False, ## 시계방향으로 가는지, 시계 반대 방향으로 가는지 정해줌 \n",
    "    autopct='%1.1f%%', ## pi 위에 표시될 글자 형태, 또한 알아서 %로 변환해서 알려줌 \n",
    "    pctdistance=0.7, ## pct가 radius 기준으로 어디쯤에 위치할지 정함 \n",
    "    colors=['pink', 'lightblue', 'purple'],\n",
    ")\n",
    "for t in texts:\n",
    "    t.set_color(\"green\")\n",
    "    t.set_fontsize(20)\n",
    "## pie 위의 텍스트를 다른 색으로 변경해주기 \n",
    "for t in autotexts:\n",
    "    t.set_color(\"white\")\n",
    "    t.set_fontsize(20)"
   ]
  },
  {
   "cell_type": "code",
   "execution_count": null,
   "metadata": {},
   "outputs": [],
   "source": []
  }
 ],
 "metadata": {
  "kernelspec": {
   "display_name": "Python 3",
   "language": "python",
   "name": "python3"
  },
  "language_info": {
   "codemirror_mode": {
    "name": "ipython",
    "version": 3
   },
   "file_extension": ".py",
   "mimetype": "text/x-python",
   "name": "python",
   "nbconvert_exporter": "python",
   "pygments_lexer": "ipython3",
   "version": "3.7.4"
  }
 },
 "nbformat": 4,
 "nbformat_minor": 4
}
